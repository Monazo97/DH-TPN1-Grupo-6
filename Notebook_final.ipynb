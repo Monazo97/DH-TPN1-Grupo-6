{
 "cells": [
  {
   "cell_type": "code",
   "execution_count": 1,
   "id": "c53e8c87",
   "metadata": {},
   "outputs": [],
   "source": [
    "import pandas as pd\n",
    "import numpy as np\n",
    "import seaborn as sns\n",
    "import regex as re\n",
    "import scipy.stats as stats\n",
    "import matplotlib.pyplot as plt"
   ]
  },
  {
   "cell_type": "markdown",
   "id": "ca32fac6",
   "metadata": {},
   "source": [
    "<a id=\"section_toc\"></a> \n",
    "## Tabla de Contenidos\n",
    "\n",
    "[Carga de Dataset](#section_load_dataset)\n",
    "\n",
    "$\\hspace{.5cm}$[Duplicados](#section_duplicated)\n",
    "\n",
    "$\\hspace{.5cm}$[Columnas desestimadas](#section_irrelevant_columns)\n",
    "\n",
    "[Columnas de precios](#section_price_columns)\n",
    "\n",
    "$\\hspace{.5cm}$[Obtención de única columna de precios](#section_unique_price_columns)\n",
    "\n",
    "$\\hspace{.5cm}$[Imputación de precios](#section_impute_price_columns)\n",
    "\n",
    "$\\hspace{.5cm}$[Outliers de precios](#section_outliers_price_columns)\n",
    "\n",
    "[Columna property_type](#section_property_type_column)\n",
    "\n",
    "[Columna rooms](#section_room_column)\n",
    "\n",
    "$\\hspace{.5cm}$[Imputación de rooms](#section_impute_rooms_columns)\n",
    "\n",
    "[Columnas m2 y precio por m2](#section_m2_columns)\n",
    "\n",
    "$\\hspace{.5cm}$[Imputación de superficie](#section_impute_m2_columns)\n",
    "\n",
    "$\\hspace{.5cm}$[Outliers de superficie](#outliers_m2_columns)\n",
    "\n",
    "[Columnas de ubicación geográfica](#section_geo_columns)\n",
    "\n",
    "[Precio por metro cuadrado por zona](#section_precio_m2_place)\n",
    "\n",
    "[Superficie total, superficie cubierta o una combinación de ambas? ](#section_surfaces_analysis)\n",
    "\n",
    "[Limpieza final](#section_final_clean)\n",
    "\n",
    "[Datasets finales](#section_final_datasets)\n",
    "\n",
    "[Gráficos con geopandas](#section_graphs)"
   ]
  },
  {
   "cell_type": "markdown",
   "id": "ca372f0b",
   "metadata": {},
   "source": [
    "<a id=\"section_load_dataset\"></a> \n",
    "## Carga de dataset\n",
    "\n",
    "[volver a TOC](#section_toc)"
   ]
  },
  {
   "cell_type": "code",
   "execution_count": 2,
   "id": "de875f57",
   "metadata": {},
   "outputs": [],
   "source": [
    "data_location = 'properatti.csv'\n",
    "df = pd.read_csv(data_location)"
   ]
  },
  {
   "cell_type": "markdown",
   "id": "85abfe53",
   "metadata": {},
   "source": [
    "Primeras filas"
   ]
  },
  {
   "cell_type": "code",
   "execution_count": 3,
   "id": "88ea144f",
   "metadata": {},
   "outputs": [
    {
     "data": {
      "text/plain": [
       "Unnamed: 0                                                                    4\n",
       "operation                                                                  sell\n",
       "property_type                                                         apartment\n",
       "place_name                                                               Centro\n",
       "place_with_parent_names       |Argentina|Buenos Aires Costa Atlántica|Mar de...\n",
       "country_name                                                          Argentina\n",
       "state_name                                         Buenos Aires Costa Atlántica\n",
       "geonames_id                                                         3.43555e+06\n",
       "lat-lon                                                 -38.0026256,-57.5494468\n",
       "lat                                                                    -38.0026\n",
       "lon                                                                    -57.5494\n",
       "price                                                                     64000\n",
       "currency                                                                    USD\n",
       "price_aprox_local_currency                                          1.12925e+06\n",
       "price_aprox_usd                                                           64000\n",
       "surface_total_in_m2                                                          35\n",
       "surface_covered_in_m2                                                        35\n",
       "price_usd_per_m2                                                        1828.57\n",
       "price_per_m2                                                            1828.57\n",
       "floor                                                                       NaN\n",
       "rooms                                                                       NaN\n",
       "expenses                                                                    NaN\n",
       "properati_url                 http://www.properati.com.ar/15bok_venta_depart...\n",
       "description                   DEPARTAMENTO CON FANTÁSTICA ILUMINACIÓN NATURA...\n",
       "title                         DEPTO 2 AMB AL CONTRAFRENTE ZONA CENTRO/PLAZA ...\n",
       "image_thumbnail               https://thumbs4.properati.com/5/xrRqlNcSI_vs-f...\n",
       "Name: 4, dtype: object"
      ]
     },
     "execution_count": 3,
     "metadata": {},
     "output_type": "execute_result"
    }
   ],
   "source": [
    "df.loc[4,:]"
   ]
  },
  {
   "cell_type": "markdown",
   "id": "62af1f33",
   "metadata": {},
   "source": [
    "Columnas y tipo de las columnas"
   ]
  },
  {
   "cell_type": "code",
   "execution_count": 4,
   "id": "482bf312",
   "metadata": {},
   "outputs": [
    {
     "name": "stdout",
     "output_type": "stream",
     "text": [
      "Shape: (121220, 26)\n"
     ]
    },
    {
     "data": {
      "text/plain": [
       "Unnamed: 0                      int64\n",
       "operation                      object\n",
       "property_type                  object\n",
       "place_name                     object\n",
       "place_with_parent_names        object\n",
       "country_name                   object\n",
       "state_name                     object\n",
       "geonames_id                   float64\n",
       "lat-lon                        object\n",
       "lat                           float64\n",
       "lon                           float64\n",
       "price                         float64\n",
       "currency                       object\n",
       "price_aprox_local_currency    float64\n",
       "price_aprox_usd               float64\n",
       "surface_total_in_m2           float64\n",
       "surface_covered_in_m2         float64\n",
       "price_usd_per_m2              float64\n",
       "price_per_m2                  float64\n",
       "floor                         float64\n",
       "rooms                         float64\n",
       "expenses                      float64\n",
       "properati_url                  object\n",
       "description                    object\n",
       "title                          object\n",
       "image_thumbnail                object\n",
       "dtype: object"
      ]
     },
     "execution_count": 4,
     "metadata": {},
     "output_type": "execute_result"
    }
   ],
   "source": [
    "print(\"Shape: {}\".format(df.shape))\n",
    "df.dtypes"
   ]
  },
  {
   "cell_type": "markdown",
   "id": "00ed7072",
   "metadata": {},
   "source": [
    "<a id=\"section_duplicated\"></a> \n",
    "## Duplicados\n",
    "\n",
    "[volver a TOC](#section_toc)"
   ]
  },
  {
   "cell_type": "markdown",
   "id": "a71c66f4",
   "metadata": {},
   "source": [
    "**Busco duplicados**"
   ]
  },
  {
   "cell_type": "code",
   "execution_count": 5,
   "id": "24fecdff",
   "metadata": {},
   "outputs": [
    {
     "data": {
      "text/plain": [
       "0"
      ]
     },
     "execution_count": 5,
     "metadata": {},
     "output_type": "execute_result"
    }
   ],
   "source": [
    "df.duplicated().sum()"
   ]
  },
  {
   "cell_type": "markdown",
   "id": "c97fa90d",
   "metadata": {},
   "source": [
    "El dataset no tiene duplicados que coincidan en todas las filas."
   ]
  },
  {
   "cell_type": "markdown",
   "id": "c868ce0b",
   "metadata": {},
   "source": [
    "<a id=\"section_irrelevant_columns\"></a> \n",
    "## Columnas desestimadas\n",
    "\n",
    "[volver a TOC](#section_toc)"
   ]
  },
  {
   "cell_type": "markdown",
   "id": "4d265257",
   "metadata": {},
   "source": [
    "**Se eliminan las columnas irrelevantes**"
   ]
  },
  {
   "cell_type": "code",
   "execution_count": 6,
   "id": "c51ea4bd",
   "metadata": {},
   "outputs": [
    {
     "data": {
      "text/plain": [
       "Argentina    121220\n",
       "Name: country_name, dtype: int64"
      ]
     },
     "execution_count": 6,
     "metadata": {},
     "output_type": "execute_result"
    }
   ],
   "source": [
    "df[\"country_name\"].value_counts()"
   ]
  },
  {
   "cell_type": "markdown",
   "id": "23ad803e",
   "metadata": {},
   "source": [
    "\"Country_name\" solo toma como valor Argentina"
   ]
  },
  {
   "cell_type": "code",
   "execution_count": 7,
   "id": "2b318b0f",
   "metadata": {},
   "outputs": [
    {
     "data": {
      "text/plain": [
       "sell    121220\n",
       "Name: operation, dtype: int64"
      ]
     },
     "execution_count": 7,
     "metadata": {},
     "output_type": "execute_result"
    }
   ],
   "source": [
    "df[\"operation\"].value_counts()"
   ]
  },
  {
   "cell_type": "markdown",
   "id": "f5d31fe0",
   "metadata": {},
   "source": [
    "\"Operation\" solo toma como valor sell"
   ]
  },
  {
   "cell_type": "markdown",
   "id": "0adc38e9",
   "metadata": {},
   "source": [
    "Se elimino: \n",
    "* \"Unnamed\", es un indice que tenia el csv\n",
    "* \"operation\". La unica operación es sell\n",
    "* \"country_name\". El unico pais es argentina\n",
    "* \"geonames_id\"\n",
    "* \"properati_url\"\n",
    "* \"image_thumbnail\"\n",
    "         \n",
    "         "
   ]
  },
  {
   "cell_type": "code",
   "execution_count": 8,
   "id": "41de7bed",
   "metadata": {},
   "outputs": [
    {
     "name": "stdout",
     "output_type": "stream",
     "text": [
      "columnas a dropear: 6\n",
      "Shape resultante: (121220, 20)\n"
     ]
    }
   ],
   "source": [
    "columns_to_drop = ['Unnamed: 0', 'operation', 'country_name', 'geonames_id', 'properati_url', 'image_thumbnail']\n",
    "print(\"columnas a dropear: {}\".format(len(columns_to_drop)))\n",
    "df.drop(columns = columns_to_drop, inplace = True)\n",
    "print(\"Shape resultante: {}\".format(df.shape))"
   ]
  },
  {
   "cell_type": "markdown",
   "id": "2d983420",
   "metadata": {},
   "source": [
    "<a id=\"section_price_columns\"></a> \n",
    "## Columnas de precios\n",
    "\n",
    "[volver a TOC](#section_toc)"
   ]
  },
  {
   "cell_type": "markdown",
   "id": "b6adb177",
   "metadata": {},
   "source": [
    "<a id=\"section_unique_price_columns\"></a> \n",
    "## Objetivo 1: Condensar todas las columnas de precios en una sola\n",
    "\n",
    "[volver a TOC](#section_toc)"
   ]
  },
  {
   "cell_type": "markdown",
   "id": "c41c1f55",
   "metadata": {},
   "source": [
    "Se inspeccionan las columnas de precios"
   ]
  },
  {
   "cell_type": "code",
   "execution_count": 9,
   "id": "4144642b",
   "metadata": {},
   "outputs": [
    {
     "name": "stdout",
     "output_type": "stream",
     "text": [
      "<class 'pandas.core.frame.DataFrame'>\n",
      "RangeIndex: 121220 entries, 0 to 121219\n",
      "Data columns (total 4 columns):\n",
      " #   Column                      Non-Null Count   Dtype  \n",
      "---  ------                      --------------   -----  \n",
      " 0   price                       100810 non-null  float64\n",
      " 1   currency                    100809 non-null  object \n",
      " 2   price_aprox_local_currency  100810 non-null  float64\n",
      " 3   price_aprox_usd             100810 non-null  float64\n",
      "dtypes: float64(3), object(1)\n",
      "memory usage: 3.7+ MB\n"
     ]
    }
   ],
   "source": [
    "price_columns = ['price', 'currency', 'price_aprox_local_currency', 'price_aprox_usd']\n",
    "df[price_columns].info()"
   ]
  },
  {
   "cell_type": "code",
   "execution_count": 10,
   "id": "d0007032",
   "metadata": {},
   "outputs": [
    {
     "data": {
      "text/plain": [
       "100810"
      ]
     },
     "execution_count": 10,
     "metadata": {},
     "output_type": "execute_result"
    }
   ],
   "source": [
    "np.logical_and(df['price'].notnull(), df['price_aprox_local_currency'].notnull()).sum()"
   ]
  },
  {
   "cell_type": "code",
   "execution_count": 11,
   "id": "94ab0e39",
   "metadata": {},
   "outputs": [
    {
     "data": {
      "text/plain": [
       "100810"
      ]
     },
     "execution_count": 11,
     "metadata": {},
     "output_type": "execute_result"
    }
   ],
   "source": [
    "np.logical_and(df['price_aprox_usd'].notnull(), df['price_aprox_local_currency'].notnull()).sum()"
   ]
  },
  {
   "cell_type": "markdown",
   "id": "0439dbb0",
   "metadata": {},
   "source": [
    "Las 3 columnas de precios tienen las mismas filas no nulas, y las mismas filas nulas"
   ]
  },
  {
   "cell_type": "code",
   "execution_count": 12,
   "id": "87a386f1",
   "metadata": {},
   "outputs": [
    {
     "data": {
      "text/html": [
       "<div>\n",
       "<style scoped>\n",
       "    .dataframe tbody tr th:only-of-type {\n",
       "        vertical-align: middle;\n",
       "    }\n",
       "\n",
       "    .dataframe tbody tr th {\n",
       "        vertical-align: top;\n",
       "    }\n",
       "\n",
       "    .dataframe thead th {\n",
       "        text-align: right;\n",
       "    }\n",
       "</style>\n",
       "<table border=\"1\" class=\"dataframe\">\n",
       "  <thead>\n",
       "    <tr style=\"text-align: right;\">\n",
       "      <th></th>\n",
       "      <th>price</th>\n",
       "      <th>currency</th>\n",
       "      <th>price_aprox_local_currency</th>\n",
       "      <th>price_aprox_usd</th>\n",
       "    </tr>\n",
       "  </thead>\n",
       "  <tbody>\n",
       "    <tr>\n",
       "      <th>0</th>\n",
       "      <td>62000.0</td>\n",
       "      <td>USD</td>\n",
       "      <td>1093959.0</td>\n",
       "      <td>62000.0</td>\n",
       "    </tr>\n",
       "    <tr>\n",
       "      <th>1</th>\n",
       "      <td>150000.0</td>\n",
       "      <td>USD</td>\n",
       "      <td>2646675.0</td>\n",
       "      <td>150000.0</td>\n",
       "    </tr>\n",
       "    <tr>\n",
       "      <th>2</th>\n",
       "      <td>72000.0</td>\n",
       "      <td>USD</td>\n",
       "      <td>1270404.0</td>\n",
       "      <td>72000.0</td>\n",
       "    </tr>\n",
       "    <tr>\n",
       "      <th>3</th>\n",
       "      <td>95000.0</td>\n",
       "      <td>USD</td>\n",
       "      <td>1676227.5</td>\n",
       "      <td>95000.0</td>\n",
       "    </tr>\n",
       "    <tr>\n",
       "      <th>4</th>\n",
       "      <td>64000.0</td>\n",
       "      <td>USD</td>\n",
       "      <td>1129248.0</td>\n",
       "      <td>64000.0</td>\n",
       "    </tr>\n",
       "  </tbody>\n",
       "</table>\n",
       "</div>"
      ],
      "text/plain": [
       "      price currency  price_aprox_local_currency  price_aprox_usd\n",
       "0   62000.0      USD                   1093959.0          62000.0\n",
       "1  150000.0      USD                   2646675.0         150000.0\n",
       "2   72000.0      USD                   1270404.0          72000.0\n",
       "3   95000.0      USD                   1676227.5          95000.0\n",
       "4   64000.0      USD                   1129248.0          64000.0"
      ]
     },
     "execution_count": 12,
     "metadata": {},
     "output_type": "execute_result"
    }
   ],
   "source": [
    "df[price_columns].head(5)"
   ]
  },
  {
   "cell_type": "code",
   "execution_count": 13,
   "id": "6fea1ee6",
   "metadata": {},
   "outputs": [
    {
     "data": {
      "text/plain": [
       "USD    87587\n",
       "ARS    13219\n",
       "PEN        2\n",
       "UYU        1\n",
       "Name: currency, dtype: int64"
      ]
     },
     "execution_count": 13,
     "metadata": {},
     "output_type": "execute_result"
    }
   ],
   "source": [
    "df['currency'].value_counts()"
   ]
  },
  {
   "cell_type": "markdown",
   "id": "4443419e",
   "metadata": {},
   "source": [
    "Se evalua quedarse solo con la columna 'price_aprox_usd'. Se opta por la columna 'price_aprox_usd' porque ya tiene los precios en dólares"
   ]
  },
  {
   "cell_type": "markdown",
   "id": "6df16160",
   "metadata": {},
   "source": [
    "La columna 'price_aprox_usd' parece obtenerse a partir de las comunas 'prices' y 'currency'. Se verifica que sus valores sean correctos"
   ]
  },
  {
   "cell_type": "code",
   "execution_count": 14,
   "id": "5167e730",
   "metadata": {},
   "outputs": [
    {
     "name": "stdout",
     "output_type": "stream",
     "text": [
      "minima tasa de cambio = 17.143000001190487\n",
      "maxima tasa de cambio = 17.83053112459975\n"
     ]
    }
   ],
   "source": [
    "#Evaluo precios en pesos\n",
    "mask_ars = df['currency'] == 'ARS'\n",
    "min_ars = (df.loc[mask_ars,'price']/df.loc[mask_ars,'price_aprox_usd']).min()\n",
    "print(\"minima tasa de cambio = {}\".format(min_ars))\n",
    "\n",
    "max_ars = (df.loc[mask_ars,'price']/df.loc[mask_ars,'price_aprox_usd']).max()\n",
    "print(\"maxima tasa de cambio = {}\".format(max_ars))"
   ]
  },
  {
   "cell_type": "code",
   "execution_count": 15,
   "id": "f9fbb735",
   "metadata": {},
   "outputs": [
    {
     "name": "stdout",
     "output_type": "stream",
     "text": [
      "minima tasa de cambio = 1.0\n",
      "maxima tasa de cambio = 1.0\n"
     ]
    }
   ],
   "source": [
    "#Evaluo precios en dolares\n",
    "mask_usd = df['currency'] == 'USD'\n",
    "min_usd = (df.loc[mask_usd,'price']/df.loc[mask_usd,'price_aprox_usd']).min()\n",
    "print(\"minima tasa de cambio = {}\".format(min_usd))\n",
    "\n",
    "max_usd = (df.loc[mask_usd,'price']/df.loc[mask_usd,'price_aprox_usd']).max()\n",
    "print(\"maxima tasa de cambio = {}\".format(max_usd))"
   ]
  },
  {
   "cell_type": "code",
   "execution_count": 16,
   "id": "8ea40c8d",
   "metadata": {},
   "outputs": [
    {
     "name": "stdout",
     "output_type": "stream",
     "text": [
      "minima tasa de cambio\n",
      "50387    3.244\n",
      "50388    3.244\n",
      "dtype: float64\n"
     ]
    }
   ],
   "source": [
    "#Evaluo precios en PEN\n",
    "mask_pen = df['currency'] == 'PEN'\n",
    "print(\"minima tasa de cambio\")\n",
    "print(df.loc[mask_pen,'price']/df.loc[mask_pen,'price_aprox_usd'])\n"
   ]
  },
  {
   "cell_type": "code",
   "execution_count": 17,
   "id": "7cecd858",
   "metadata": {},
   "outputs": [
    {
     "name": "stdout",
     "output_type": "stream",
     "text": [
      "minima tasa de cambio\n",
      "107390    28.285\n",
      "dtype: float64\n"
     ]
    }
   ],
   "source": [
    "#Evaluo precios en UYU\n",
    "mask_uyu = df['currency'] == 'UYU'\n",
    "print(\"minima tasa de cambio\")\n",
    "print(df.loc[mask_uyu,'price']/df.loc[mask_uyu,'price_aprox_usd'])"
   ]
  },
  {
   "cell_type": "code",
   "execution_count": 18,
   "id": "47fcdd9a",
   "metadata": {},
   "outputs": [
    {
     "data": {
      "text/html": [
       "<div>\n",
       "<style scoped>\n",
       "    .dataframe tbody tr th:only-of-type {\n",
       "        vertical-align: middle;\n",
       "    }\n",
       "\n",
       "    .dataframe tbody tr th {\n",
       "        vertical-align: top;\n",
       "    }\n",
       "\n",
       "    .dataframe thead th {\n",
       "        text-align: right;\n",
       "    }\n",
       "</style>\n",
       "<table border=\"1\" class=\"dataframe\">\n",
       "  <thead>\n",
       "    <tr style=\"text-align: right;\">\n",
       "      <th></th>\n",
       "      <th>price</th>\n",
       "      <th>currency</th>\n",
       "      <th>price_aprox_local_currency</th>\n",
       "      <th>price_aprox_usd</th>\n",
       "    </tr>\n",
       "  </thead>\n",
       "  <tbody>\n",
       "    <tr>\n",
       "      <th>9761</th>\n",
       "      <td>0.0</td>\n",
       "      <td>NaN</td>\n",
       "      <td>0.0</td>\n",
       "      <td>0.0</td>\n",
       "    </tr>\n",
       "  </tbody>\n",
       "</table>\n",
       "</div>"
      ],
      "text/plain": [
       "      price currency  price_aprox_local_currency  price_aprox_usd\n",
       "9761    0.0      NaN                         0.0              0.0"
      ]
     },
     "execution_count": 18,
     "metadata": {},
     "output_type": "execute_result"
    }
   ],
   "source": [
    "mask_price = df['price'].notnull()\n",
    "mask_not_currency = df['currency'].isnull()\n",
    "mask_price_not_currency = np.logical_and(mask_price, mask_not_currency)\n",
    "df.loc[mask_price_not_currency, price_columns]\n"
   ]
  },
  {
   "cell_type": "markdown",
   "id": "a710b48e",
   "metadata": {},
   "source": [
    "Las tasas de cambio usadas para la conversion de moneda del anuncio a dolares son consistentes con las que habia a finales de 2017. La columna price_aprox_usd está bien generada"
   ]
  },
  {
   "cell_type": "code",
   "execution_count": 19,
   "id": "04adc5a9",
   "metadata": {},
   "outputs": [],
   "source": [
    "price_columns_to_drop = ['price', 'currency', 'price_aprox_local_currency']\n",
    "df.drop(columns = price_columns_to_drop, inplace = True)"
   ]
  },
  {
   "cell_type": "markdown",
   "id": "284dc5f6",
   "metadata": {},
   "source": [
    "<a id=\"section_impute_price_columns\"></a> \n",
    "## Objetivo 2: Imputación de precios\n",
    "\n",
    "[volver a TOC](#section_toc)"
   ]
  },
  {
   "cell_type": "markdown",
   "id": "03645fcf",
   "metadata": {},
   "source": [
    "Proporcion de nulos de price_aprox_usd"
   ]
  },
  {
   "cell_type": "code",
   "execution_count": 20,
   "id": "0922139f",
   "metadata": {},
   "outputs": [
    {
     "name": "stdout",
     "output_type": "stream",
     "text": [
      "Porcentaje de nulos: 16.84%\n"
     ]
    }
   ],
   "source": [
    "print(\"Porcentaje de nulos: {0:.2f}%\".format(100*df.price_aprox_usd.isnull().sum()/len(df.price_aprox_usd)))"
   ]
  },
  {
   "cell_type": "markdown",
   "id": "febba74a",
   "metadata": {},
   "source": [
    "**Imputacion a partir de \"description\" y \"title\"**"
   ]
  },
  {
   "cell_type": "markdown",
   "id": "fc83d4b9",
   "metadata": {},
   "source": [
    "Se utiliza regex para obtener valores de precios a partir de las columnas 'description' y title'"
   ]
  },
  {
   "cell_type": "code",
   "execution_count": 21,
   "id": "861792b9",
   "metadata": {},
   "outputs": [],
   "source": [
    "def usd_regex(x):\n",
    "    patron_usd = \"u\\$s\\s*(?P<precio>\\d+)\"\n",
    "    patron_usd_regex = re.compile(patron_usd)\n",
    "    x = x.replace('.', '')\n",
    "    x = x.lower()\n",
    "    search = patron_usd_regex.search(x)\n",
    "    if (search is None):\n",
    "        return np.NaN\n",
    "    else:\n",
    "        return float(search.group('precio'))\n",
    "\n",
    "mask_price_null = df['price_aprox_usd'].isnull()\n",
    "df_pricenull = df.loc[mask_price_null].copy()\n",
    "\n",
    "title_result_regex = df_pricenull['title'].apply(usd_regex)\n",
    "description_result_regex = df.loc[mask_price_null,'description'].apply(usd_regex)\n"
   ]
  },
  {
   "cell_type": "code",
   "execution_count": 22,
   "id": "0125b763",
   "metadata": {},
   "outputs": [
    {
     "name": "stdout",
     "output_type": "stream",
     "text": [
      "Cantidad de valores imputados usando el titulo: 10\n"
     ]
    }
   ],
   "source": [
    "print(\"Cantidad de valores imputados usando el titulo: {}\".format(title_result_regex.notnull().sum()))"
   ]
  },
  {
   "cell_type": "markdown",
   "id": "e56c25cd",
   "metadata": {},
   "source": [
    "Valores obtenidos con regex a partir del titulo"
   ]
  },
  {
   "cell_type": "code",
   "execution_count": 23,
   "id": "64537524",
   "metadata": {},
   "outputs": [
    {
     "data": {
      "text/plain": [
       "61684     370000.0\n",
       "79472     300000.0\n",
       "50056     235000.0\n",
       "50057     180000.0\n",
       "50054     158000.0\n",
       "22370     125000.0\n",
       "50055     101000.0\n",
       "35534      85000.0\n",
       "103676     55000.0\n",
       "25757      35080.0\n",
       "Name: title, dtype: float64"
      ]
     },
     "execution_count": 23,
     "metadata": {},
     "output_type": "execute_result"
    }
   ],
   "source": [
    "title_result_regex.sort_values(ascending = False).head(10)"
   ]
  },
  {
   "cell_type": "code",
   "execution_count": 24,
   "id": "f2e6c803",
   "metadata": {},
   "outputs": [
    {
     "name": "stdout",
     "output_type": "stream",
     "text": [
      "Cantidad de valores imputados usando la descripcion: 658\n"
     ]
    }
   ],
   "source": [
    "print(\"Cantidad de valores imputados usando la descripcion: {}\".format(description_result_regex.notnull().sum()))"
   ]
  },
  {
   "cell_type": "markdown",
   "id": "a1f2aafb",
   "metadata": {},
   "source": [
    "Valores obtenidos con regex a partir de la descripcion"
   ]
  },
  {
   "cell_type": "code",
   "execution_count": 25,
   "id": "e0b9f2a7",
   "metadata": {},
   "outputs": [
    {
     "data": {
      "text/plain": [
       "22179     1950000.0\n",
       "1936      1234567.0\n",
       "113316    1200004.0\n",
       "2414      1100000.0\n",
       "48547     1100000.0\n",
       "Name: description, dtype: float64"
      ]
     },
     "execution_count": 25,
     "metadata": {},
     "output_type": "execute_result"
    }
   ],
   "source": [
    "description_result_regex.sort_values(ascending = False).head(5)"
   ]
  },
  {
   "cell_type": "markdown",
   "id": "f035dfcb",
   "metadata": {},
   "source": [
    "Se crea serie con los precios a agregar al dataset"
   ]
  },
  {
   "cell_type": "code",
   "execution_count": 26,
   "id": "190825fd",
   "metadata": {},
   "outputs": [],
   "source": [
    "prices_to_add = description_result_regex\n",
    "title_result_notnull = title_result_regex[title_result_regex.notnull()]\n",
    "prices_to_add[title_result_notnull.index] = title_result_notnull\n",
    "index_to_drop = prices_to_add[prices_to_add.isnull()].index\n",
    "prices_to_add.drop(index=index_to_drop, inplace=True)"
   ]
  },
  {
   "cell_type": "code",
   "execution_count": 27,
   "id": "e9b3ddaa",
   "metadata": {},
   "outputs": [
    {
     "name": "stdout",
     "output_type": "stream",
     "text": [
      "Cantidad de precios a imputar a partir de description y title: 667\n"
     ]
    }
   ],
   "source": [
    "print(\"Cantidad de precios a imputar a partir de description y title: {}\".format(prices_to_add.shape[0]))"
   ]
  },
  {
   "cell_type": "markdown",
   "id": "895f2bd2",
   "metadata": {},
   "source": [
    "Grafico histograma de los datos a imputar"
   ]
  },
  {
   "cell_type": "code",
   "execution_count": 28,
   "id": "bab645ec",
   "metadata": {},
   "outputs": [
    {
     "data": {
      "text/plain": [
       "Text(0.5, 0, 'prices')"
      ]
     },
     "execution_count": 28,
     "metadata": {},
     "output_type": "execute_result"
    },
    {
     "data": {
      "image/png": "[encoded data removed]",
      "text/plain": [
       "<Figure size 432x288 with 1 Axes>"
      ]
     },
     "metadata": {
      "needs_background": "light"
     },
     "output_type": "display_data"
    }
   ],
   "source": [
    "ax = sns.histplot(prices_to_add)\n",
    "ax.set_xlabel('prices')"
   ]
  },
  {
   "cell_type": "markdown",
   "id": "573a11d6",
   "metadata": {},
   "source": [
    "Se muestran los valores para un rango de precios entre 0 y 1000 "
   ]
  },
  {
   "cell_type": "code",
   "execution_count": 29,
   "id": "dbc6c664",
   "metadata": {},
   "outputs": [
    {
     "data": {
      "text/plain": [
       "Text(0.5, 0, 'prices')"
      ]
     },
     "execution_count": 29,
     "metadata": {},
     "output_type": "execute_result"
    },
    {
     "data": {
      "image/png": "[encoded data removed]",
      "text/plain": [
       "<Figure size 432x288 with 1 Axes>"
      ]
     },
     "metadata": {
      "needs_background": "light"
     },
     "output_type": "display_data"
    }
   ],
   "source": [
    "ax = sns.histplot(prices_to_add, bins=14,  binrange=(0,1000))\n",
    "ax.set_xlabel('prices')\n",
    "#ax.set(xlim=(0, 100000))\n",
    "#ax.set(xlim=(0, 1000), ylim=(0,4000000))"
   ]
  },
  {
   "cell_type": "markdown",
   "id": "738278bf",
   "metadata": {},
   "source": [
    "Hay una gran cantidad de valores atipicos. Se calcula y dropea valores menores a 50 usd"
   ]
  },
  {
   "cell_type": "code",
   "execution_count": 30,
   "id": "8b39835b",
   "metadata": {},
   "outputs": [
    {
     "name": "stdout",
     "output_type": "stream",
     "text": [
      "cantidad de valores a dropear: 185\n"
     ]
    }
   ],
   "source": [
    "print(\"cantidad de valores a dropear: {}\".format((prices_to_add < 50).sum()))"
   ]
  },
  {
   "cell_type": "code",
   "execution_count": 31,
   "id": "c83cf06b",
   "metadata": {},
   "outputs": [],
   "source": [
    "index_below_50 = prices_to_add[prices_to_add < 50].index\n",
    "prices_to_add.drop(index=index_below_50,inplace=True)"
   ]
  },
  {
   "cell_type": "markdown",
   "id": "524603dd",
   "metadata": {},
   "source": [
    "Se muestra histograma de los datos a imputar habiendo eliminado estos valores atipicos"
   ]
  },
  {
   "cell_type": "code",
   "execution_count": 32,
   "id": "9a106c01",
   "metadata": {},
   "outputs": [
    {
     "data": {
      "text/plain": [
       "Text(0.5, 0, 'prices')"
      ]
     },
     "execution_count": 32,
     "metadata": {},
     "output_type": "execute_result"
    },
    {
     "data": {
      "image/png": "[encoded data removed]",
      "text/plain": [
       "<Figure size 432x288 with 1 Axes>"
      ]
     },
     "metadata": {
      "needs_background": "light"
     },
     "output_type": "display_data"
    }
   ],
   "source": [
    "ax = sns.histplot(prices_to_add, bins=14, binrange=(0,100000))\n",
    "ax.set_xlabel('prices')"
   ]
  },
  {
   "cell_type": "markdown",
   "id": "1447063c",
   "metadata": {},
   "source": [
    "Imputo valores al dataset"
   ]
  },
  {
   "cell_type": "code",
   "execution_count": 33,
   "id": "dc0c80c2",
   "metadata": {},
   "outputs": [],
   "source": [
    "df.loc[prices_to_add.index,'price_aprox_usd'] = prices_to_add"
   ]
  },
  {
   "cell_type": "markdown",
   "id": "d2b98bca",
   "metadata": {},
   "source": [
    "**Imputacion por precio del metro cuadrado**"
   ]
  },
  {
   "cell_type": "markdown",
   "id": "d3f4a587",
   "metadata": {},
   "source": [
    "Se intenta imputar precios usando la columna de precio por m2"
   ]
  },
  {
   "cell_type": "code",
   "execution_count": 34,
   "id": "26655b7c",
   "metadata": {},
   "outputs": [],
   "source": [
    "columns_m2 = ['price_aprox_usd', 'surface_total_in_m2', 'surface_covered_in_m2', 'price_usd_per_m2', ]"
   ]
  },
  {
   "cell_type": "markdown",
   "id": "0caca07e",
   "metadata": {},
   "source": [
    "Cantidad de propiedades que tienen price_usd_per_m2 y no tienen precio total"
   ]
  },
  {
   "cell_type": "code",
   "execution_count": 35,
   "id": "1f8adc49",
   "metadata": {},
   "outputs": [
    {
     "data": {
      "text/plain": [
       "0"
      ]
     },
     "execution_count": 35,
     "metadata": {},
     "output_type": "execute_result"
    }
   ],
   "source": [
    "np.logical_and(df.price_usd_per_m2.notnull(), df.price_aprox_usd.isnull()).sum()"
   ]
  },
  {
   "cell_type": "markdown",
   "id": "587fcd17",
   "metadata": {},
   "source": [
    "Cantidad de propiedades que tienen price_per_m2 y no tienen precio total"
   ]
  },
  {
   "cell_type": "code",
   "execution_count": 36,
   "id": "d3d754db",
   "metadata": {},
   "outputs": [
    {
     "data": {
      "text/plain": [
       "0"
      ]
     },
     "execution_count": 36,
     "metadata": {},
     "output_type": "execute_result"
    }
   ],
   "source": [
    "np.logical_and(df.price_per_m2.notnull(), df.price_aprox_usd.isnull()).sum()"
   ]
  },
  {
   "cell_type": "markdown",
   "id": "ec16e04d",
   "metadata": {},
   "source": [
    "No hay propiedades que tengan precio por m2 y no tengan precio total. No se puede imputar ningún valor de esta manera"
   ]
  },
  {
   "cell_type": "markdown",
   "id": "4aa8d133",
   "metadata": {},
   "source": [
    "<a id=\"section_outliers_price_columns\"></a> \n",
    "## Objetivo 3: Outliers de precios\n",
    "\n",
    "[volver a TOC](#section_toc)"
   ]
  },
  {
   "cell_type": "markdown",
   "id": "4caa15ad",
   "metadata": {},
   "source": [
    "Se inspecciona valores maximos y minimos de price_aprox_usd"
   ]
  },
  {
   "cell_type": "code",
   "execution_count": 37,
   "id": "0f849a5c",
   "metadata": {},
   "outputs": [
    {
     "data": {
      "text/html": [
       "<div>\n",
       "<style scoped>\n",
       "    .dataframe tbody tr th:only-of-type {\n",
       "        vertical-align: middle;\n",
       "    }\n",
       "\n",
       "    .dataframe tbody tr th {\n",
       "        vertical-align: top;\n",
       "    }\n",
       "\n",
       "    .dataframe thead th {\n",
       "        text-align: right;\n",
       "    }\n",
       "</style>\n",
       "<table border=\"1\" class=\"dataframe\">\n",
       "  <thead>\n",
       "    <tr style=\"text-align: right;\">\n",
       "      <th></th>\n",
       "      <th>property_type</th>\n",
       "      <th>place_name</th>\n",
       "      <th>place_with_parent_names</th>\n",
       "      <th>state_name</th>\n",
       "      <th>lat-lon</th>\n",
       "      <th>lat</th>\n",
       "      <th>lon</th>\n",
       "      <th>price_aprox_usd</th>\n",
       "      <th>surface_total_in_m2</th>\n",
       "      <th>surface_covered_in_m2</th>\n",
       "      <th>price_usd_per_m2</th>\n",
       "      <th>price_per_m2</th>\n",
       "      <th>floor</th>\n",
       "      <th>rooms</th>\n",
       "      <th>expenses</th>\n",
       "      <th>description</th>\n",
       "      <th>title</th>\n",
       "    </tr>\n",
       "  </thead>\n",
       "  <tbody>\n",
       "    <tr>\n",
       "      <th>24548</th>\n",
       "      <td>apartment</td>\n",
       "      <td>San Telmo</td>\n",
       "      <td>|Argentina|Capital Federal|San Telmo|</td>\n",
       "      <td>Capital Federal</td>\n",
       "      <td>-34.6213421,-58.3741846</td>\n",
       "      <td>-34.621342</td>\n",
       "      <td>-58.374185</td>\n",
       "      <td>46545445.00</td>\n",
       "      <td>200000.0</td>\n",
       "      <td>NaN</td>\n",
       "      <td>232.727225</td>\n",
       "      <td>NaN</td>\n",
       "      <td>NaN</td>\n",
       "      <td>3.0</td>\n",
       "      <td>NaN</td>\n",
       "      <td>dsdffhghvcvbcdfdfghdfhghkjhkhjklhjkfgvghfghnfg...</td>\n",
       "      <td>Departamento venta</td>\n",
       "    </tr>\n",
       "    <tr>\n",
       "      <th>91468</th>\n",
       "      <td>house</td>\n",
       "      <td>Punilla</td>\n",
       "      <td>|Argentina|Córdoba|Punilla|</td>\n",
       "      <td>Córdoba</td>\n",
       "      <td>NaN</td>\n",
       "      <td>NaN</td>\n",
       "      <td>NaN</td>\n",
       "      <td>25000000.00</td>\n",
       "      <td>NaN</td>\n",
       "      <td>NaN</td>\n",
       "      <td>NaN</td>\n",
       "      <td>NaN</td>\n",
       "      <td>NaN</td>\n",
       "      <td>NaN</td>\n",
       "      <td>NaN</td>\n",
       "      <td>Casa con Agua Corriente, Córdoba, Punilla, por...</td>\n",
       "      <td>Casa - Parque Siquiman</td>\n",
       "    </tr>\n",
       "    <tr>\n",
       "      <th>107390</th>\n",
       "      <td>house</td>\n",
       "      <td>San Roque</td>\n",
       "      <td>|Argentina|Mendoza|San Roque|</td>\n",
       "      <td>Mendoza</td>\n",
       "      <td>NaN</td>\n",
       "      <td>NaN</td>\n",
       "      <td>NaN</td>\n",
       "      <td>22980378.29</td>\n",
       "      <td>NaN</td>\n",
       "      <td>NaN</td>\n",
       "      <td>NaN</td>\n",
       "      <td>NaN</td>\n",
       "      <td>NaN</td>\n",
       "      <td>NaN</td>\n",
       "      <td>NaN</td>\n",
       "      <td>Casa con Calefacción central, Mendoza, San Roq...</td>\n",
       "      <td>Casa - San Vicente</td>\n",
       "    </tr>\n",
       "    <tr>\n",
       "      <th>91479</th>\n",
       "      <td>house</td>\n",
       "      <td>Punilla</td>\n",
       "      <td>|Argentina|Córdoba|Punilla|</td>\n",
       "      <td>Córdoba</td>\n",
       "      <td>NaN</td>\n",
       "      <td>NaN</td>\n",
       "      <td>NaN</td>\n",
       "      <td>19500000.00</td>\n",
       "      <td>NaN</td>\n",
       "      <td>NaN</td>\n",
       "      <td>NaN</td>\n",
       "      <td>NaN</td>\n",
       "      <td>NaN</td>\n",
       "      <td>NaN</td>\n",
       "      <td>NaN</td>\n",
       "      <td>\\tCECILIA INMUEBLES OFRECE:INCREIBLE PROPIEDAD...</td>\n",
       "      <td>Casa - Parque Siquiman</td>\n",
       "    </tr>\n",
       "    <tr>\n",
       "      <th>91289</th>\n",
       "      <td>house</td>\n",
       "      <td>Punilla</td>\n",
       "      <td>|Argentina|Córdoba|Punilla|</td>\n",
       "      <td>Córdoba</td>\n",
       "      <td>NaN</td>\n",
       "      <td>NaN</td>\n",
       "      <td>NaN</td>\n",
       "      <td>16000000.00</td>\n",
       "      <td>NaN</td>\n",
       "      <td>NaN</td>\n",
       "      <td>NaN</td>\n",
       "      <td>NaN</td>\n",
       "      <td>NaN</td>\n",
       "      <td>NaN</td>\n",
       "      <td>NaN</td>\n",
       "      <td>En Bv Artigas 876 , Parque Jardín, La Falda .A...</td>\n",
       "      <td>Casa - La Falda</td>\n",
       "    </tr>\n",
       "  </tbody>\n",
       "</table>\n",
       "</div>"
      ],
      "text/plain": [
       "       property_type place_name                place_with_parent_names  \\\n",
       "24548      apartment  San Telmo  |Argentina|Capital Federal|San Telmo|   \n",
       "91468          house    Punilla            |Argentina|Córdoba|Punilla|   \n",
       "107390         house  San Roque          |Argentina|Mendoza|San Roque|   \n",
       "91479          house    Punilla            |Argentina|Córdoba|Punilla|   \n",
       "91289          house    Punilla            |Argentina|Córdoba|Punilla|   \n",
       "\n",
       "             state_name                  lat-lon        lat        lon  \\\n",
       "24548   Capital Federal  -34.6213421,-58.3741846 -34.621342 -58.374185   \n",
       "91468           Córdoba                      NaN        NaN        NaN   \n",
       "107390          Mendoza                      NaN        NaN        NaN   \n",
       "91479           Córdoba                      NaN        NaN        NaN   \n",
       "91289           Córdoba                      NaN        NaN        NaN   \n",
       "\n",
       "        price_aprox_usd  surface_total_in_m2  surface_covered_in_m2  \\\n",
       "24548       46545445.00             200000.0                    NaN   \n",
       "91468       25000000.00                  NaN                    NaN   \n",
       "107390      22980378.29                  NaN                    NaN   \n",
       "91479       19500000.00                  NaN                    NaN   \n",
       "91289       16000000.00                  NaN                    NaN   \n",
       "\n",
       "        price_usd_per_m2  price_per_m2  floor  rooms  expenses  \\\n",
       "24548         232.727225           NaN    NaN    3.0       NaN   \n",
       "91468                NaN           NaN    NaN    NaN       NaN   \n",
       "107390               NaN           NaN    NaN    NaN       NaN   \n",
       "91479                NaN           NaN    NaN    NaN       NaN   \n",
       "91289                NaN           NaN    NaN    NaN       NaN   \n",
       "\n",
       "                                              description  \\\n",
       "24548   dsdffhghvcvbcdfdfghdfhghkjhkhjklhjkfgvghfghnfg...   \n",
       "91468   Casa con Agua Corriente, Córdoba, Punilla, por...   \n",
       "107390  Casa con Calefacción central, Mendoza, San Roq...   \n",
       "91479   \\tCECILIA INMUEBLES OFRECE:INCREIBLE PROPIEDAD...   \n",
       "91289   En Bv Artigas 876 , Parque Jardín, La Falda .A...   \n",
       "\n",
       "                         title  \n",
       "24548       Departamento venta  \n",
       "91468   Casa - Parque Siquiman  \n",
       "107390      Casa - San Vicente  \n",
       "91479   Casa - Parque Siquiman  \n",
       "91289          Casa - La Falda  "
      ]
     },
     "execution_count": 37,
     "metadata": {},
     "output_type": "execute_result"
    }
   ],
   "source": [
    "df.sort_values(by='price_aprox_usd', ascending=False).head()"
   ]
  },
  {
   "cell_type": "code",
   "execution_count": 38,
   "id": "d93cc0be",
   "metadata": {},
   "outputs": [
    {
     "data": {
      "text/html": [
       "<div>\n",
       "<style scoped>\n",
       "    .dataframe tbody tr th:only-of-type {\n",
       "        vertical-align: middle;\n",
       "    }\n",
       "\n",
       "    .dataframe tbody tr th {\n",
       "        vertical-align: top;\n",
       "    }\n",
       "\n",
       "    .dataframe thead th {\n",
       "        text-align: right;\n",
       "    }\n",
       "</style>\n",
       "<table border=\"1\" class=\"dataframe\">\n",
       "  <thead>\n",
       "    <tr style=\"text-align: right;\">\n",
       "      <th></th>\n",
       "      <th>property_type</th>\n",
       "      <th>place_name</th>\n",
       "      <th>place_with_parent_names</th>\n",
       "      <th>state_name</th>\n",
       "      <th>lat-lon</th>\n",
       "      <th>lat</th>\n",
       "      <th>lon</th>\n",
       "      <th>price_aprox_usd</th>\n",
       "      <th>surface_total_in_m2</th>\n",
       "      <th>surface_covered_in_m2</th>\n",
       "      <th>price_usd_per_m2</th>\n",
       "      <th>price_per_m2</th>\n",
       "      <th>floor</th>\n",
       "      <th>rooms</th>\n",
       "      <th>expenses</th>\n",
       "      <th>description</th>\n",
       "      <th>title</th>\n",
       "    </tr>\n",
       "  </thead>\n",
       "  <tbody>\n",
       "    <tr>\n",
       "      <th>9761</th>\n",
       "      <td>house</td>\n",
       "      <td>Córdoba</td>\n",
       "      <td>|Argentina|Córdoba|</td>\n",
       "      <td>Córdoba</td>\n",
       "      <td>4.5458426,-75.67893099</td>\n",
       "      <td>4.545843</td>\n",
       "      <td>-75.678931</td>\n",
       "      <td>0.0</td>\n",
       "      <td>NaN</td>\n",
       "      <td>NaN</td>\n",
       "      <td>NaN</td>\n",
       "      <td>NaN</td>\n",
       "      <td>2.0</td>\n",
       "      <td>3.0</td>\n",
       "      <td>NaN</td>\n",
       "      <td>Casa en Venta de 2 dorm. en Armenia</td>\n",
       "      <td>SE VENDE CASA EN EL BARRIO EL LIMONAR</td>\n",
       "    </tr>\n",
       "    <tr>\n",
       "      <th>66083</th>\n",
       "      <td>store</td>\n",
       "      <td>San Carlos de Bariloche</td>\n",
       "      <td>|Argentina|Río Negro|San Carlos de Bariloche|S...</td>\n",
       "      <td>Río Negro</td>\n",
       "      <td>NaN</td>\n",
       "      <td>NaN</td>\n",
       "      <td>NaN</td>\n",
       "      <td>88.0</td>\n",
       "      <td>NaN</td>\n",
       "      <td>22.0</td>\n",
       "      <td>NaN</td>\n",
       "      <td>NaN</td>\n",
       "      <td>NaN</td>\n",
       "      <td>NaN</td>\n",
       "      <td>NaN</td>\n",
       "      <td>Local, San Carlos de Bariloche, San Carlos de ...</td>\n",
       "      <td>Edificio Comercial - San Carlos De Bariloche</td>\n",
       "    </tr>\n",
       "    <tr>\n",
       "      <th>77672</th>\n",
       "      <td>house</td>\n",
       "      <td>Neuquén</td>\n",
       "      <td>|Argentina|Neuquén|</td>\n",
       "      <td>Neuquén</td>\n",
       "      <td>-40.799022,-71.597428</td>\n",
       "      <td>-40.799022</td>\n",
       "      <td>-71.597428</td>\n",
       "      <td>97.0</td>\n",
       "      <td>NaN</td>\n",
       "      <td>NaN</td>\n",
       "      <td>NaN</td>\n",
       "      <td>NaN</td>\n",
       "      <td>NaN</td>\n",
       "      <td>NaN</td>\n",
       "      <td>1356.0</td>\n",
       "      <td>TIEMPO COMPARTIDO: Cabaña para seis personas!E...</td>\n",
       "      <td>Tiempo Compartido en Villa La Angostura, Oport...</td>\n",
       "    </tr>\n",
       "    <tr>\n",
       "      <th>53856</th>\n",
       "      <td>house</td>\n",
       "      <td>Córdoba</td>\n",
       "      <td>|Argentina|Córdoba|Córdoba|</td>\n",
       "      <td>Córdoba</td>\n",
       "      <td>-31.3036383166,-64.2410813336</td>\n",
       "      <td>-31.303638</td>\n",
       "      <td>-64.241081</td>\n",
       "      <td>350.0</td>\n",
       "      <td>1170.0</td>\n",
       "      <td>185.0</td>\n",
       "      <td>NaN</td>\n",
       "      <td>NaN</td>\n",
       "      <td>NaN</td>\n",
       "      <td>7.0</td>\n",
       "      <td>NaN</td>\n",
       "      <td>TERRA – VENDE CASA – COUNTRY  SAN ISIDROMANZAN...</td>\n",
       "      <td>TERRA – VENDE CASA – COUNTRY  SAN ISIDRO</td>\n",
       "    </tr>\n",
       "    <tr>\n",
       "      <th>108165</th>\n",
       "      <td>apartment</td>\n",
       "      <td>Puerto Madero</td>\n",
       "      <td>|Argentina|Capital Federal|Puerto Madero|</td>\n",
       "      <td>Capital Federal</td>\n",
       "      <td>-34.6019675,-58.3640937</td>\n",
       "      <td>-34.601968</td>\n",
       "      <td>-58.364094</td>\n",
       "      <td>450.0</td>\n",
       "      <td>NaN</td>\n",
       "      <td>NaN</td>\n",
       "      <td>NaN</td>\n",
       "      <td>NaN</td>\n",
       "      <td>NaN</td>\n",
       "      <td>NaN</td>\n",
       "      <td>NaN</td>\n",
       "      <td>CODIGO: 916-69184 ubicado en: VICTORIA OCAMPO ...</td>\n",
       "      <td>Departamento en Venta en Puerto Madero, Capita...</td>\n",
       "    </tr>\n",
       "  </tbody>\n",
       "</table>\n",
       "</div>"
      ],
      "text/plain": [
       "       property_type               place_name  \\\n",
       "9761           house                  Córdoba   \n",
       "66083          store  San Carlos de Bariloche   \n",
       "77672          house                  Neuquén   \n",
       "53856          house                  Córdoba   \n",
       "108165     apartment            Puerto Madero   \n",
       "\n",
       "                                  place_with_parent_names       state_name  \\\n",
       "9761                                  |Argentina|Córdoba|          Córdoba   \n",
       "66083   |Argentina|Río Negro|San Carlos de Bariloche|S...        Río Negro   \n",
       "77672                                 |Argentina|Neuquén|          Neuquén   \n",
       "53856                         |Argentina|Córdoba|Córdoba|          Córdoba   \n",
       "108165          |Argentina|Capital Federal|Puerto Madero|  Capital Federal   \n",
       "\n",
       "                              lat-lon        lat        lon  price_aprox_usd  \\\n",
       "9761           4.5458426,-75.67893099   4.545843 -75.678931              0.0   \n",
       "66083                             NaN        NaN        NaN             88.0   \n",
       "77672           -40.799022,-71.597428 -40.799022 -71.597428             97.0   \n",
       "53856   -31.3036383166,-64.2410813336 -31.303638 -64.241081            350.0   \n",
       "108165        -34.6019675,-58.3640937 -34.601968 -58.364094            450.0   \n",
       "\n",
       "        surface_total_in_m2  surface_covered_in_m2  price_usd_per_m2  \\\n",
       "9761                    NaN                    NaN               NaN   \n",
       "66083                   NaN                   22.0               NaN   \n",
       "77672                   NaN                    NaN               NaN   \n",
       "53856                1170.0                  185.0               NaN   \n",
       "108165                  NaN                    NaN               NaN   \n",
       "\n",
       "        price_per_m2  floor  rooms  expenses  \\\n",
       "9761             NaN    2.0    3.0       NaN   \n",
       "66083            NaN    NaN    NaN       NaN   \n",
       "77672            NaN    NaN    NaN    1356.0   \n",
       "53856            NaN    NaN    7.0       NaN   \n",
       "108165           NaN    NaN    NaN       NaN   \n",
       "\n",
       "                                              description  \\\n",
       "9761                  Casa en Venta de 2 dorm. en Armenia   \n",
       "66083   Local, San Carlos de Bariloche, San Carlos de ...   \n",
       "77672   TIEMPO COMPARTIDO: Cabaña para seis personas!E...   \n",
       "53856   TERRA – VENDE CASA – COUNTRY  SAN ISIDROMANZAN...   \n",
       "108165  CODIGO: 916-69184 ubicado en: VICTORIA OCAMPO ...   \n",
       "\n",
       "                                                    title  \n",
       "9761                SE VENDE CASA EN EL BARRIO EL LIMONAR  \n",
       "66083        Edificio Comercial - San Carlos De Bariloche  \n",
       "77672   Tiempo Compartido en Villa La Angostura, Oport...  \n",
       "53856          TERRA – VENDE CASA – COUNTRY  SAN ISIDRO    \n",
       "108165  Departamento en Venta en Puerto Madero, Capita...  "
      ]
     },
     "execution_count": 38,
     "metadata": {},
     "output_type": "execute_result"
    }
   ],
   "source": [
    "df.sort_values(by='price_aprox_usd', ascending=True).head()"
   ]
  },
  {
   "cell_type": "markdown",
   "id": "246c3324",
   "metadata": {},
   "source": [
    "Calculo outliers con la cuenta del rango intercuartil"
   ]
  },
  {
   "cell_type": "code",
   "execution_count": 39,
   "id": "b955f5dd",
   "metadata": {},
   "outputs": [
    {
     "name": "stdout",
     "output_type": "stream",
     "text": [
      "Umbral inferior: 528550.0\n",
      "Umbral superior: -174250.0\n"
     ]
    }
   ],
   "source": [
    "q1 = df['price_aprox_usd'].quantile(q = 0.25)\n",
    "q3 = df['price_aprox_usd'].quantile(q = 0.75)\n",
    "outliers_low = q3 + 1.5*(q3 - q1)\n",
    "outliers_high = q1 - 1.5*(q3 - q1)\n",
    "\n",
    "print('Umbral inferior: {}'.format(outliers_low))\n",
    "print('Umbral superior: {}'.format(outliers_high))"
   ]
  },
  {
   "cell_type": "markdown",
   "id": "d99b6643",
   "metadata": {},
   "source": [
    "Los valores clásicos de outliers no estarían sirviendo, grafico histograma de precios"
   ]
  },
  {
   "cell_type": "code",
   "execution_count": 40,
   "id": "55f2c6d0",
   "metadata": {},
   "outputs": [
    {
     "data": {
      "text/plain": [
       "<AxesSubplot:xlabel='price_aprox_usd', ylabel='Count'>"
      ]
     },
     "execution_count": 40,
     "metadata": {},
     "output_type": "execute_result"
    },
    {
     "data": {
      "image/png": "[encoded data removed]",
      "text/plain": [
       "<Figure size 432x288 with 1 Axes>"
      ]
     },
     "metadata": {
      "needs_background": "light"
     },
     "output_type": "display_data"
    }
   ],
   "source": [
    "sns.histplot(df['price_aprox_usd'], binrange =(0,1000000))"
   ]
  },
  {
   "cell_type": "markdown",
   "id": "7e362363",
   "metadata": {},
   "source": [
    "La regla de outliers no funciona porque la distribución no es normal. Se revisa que porcentaje de una distribucion normal deja afuera la regla tradicional outliers. Luego se usa este procentaje como referencia en una distribución más acorde a lo obtenido"
   ]
  },
  {
   "cell_type": "code",
   "execution_count": 41,
   "id": "ba729751",
   "metadata": {},
   "outputs": [
    {
     "name": "stdout",
     "output_type": "stream",
     "text": [
      "umbral inferior en porcentaje: 0.0035%\n",
      "umbral superior en porcentaje: 0.9965%\n"
     ]
    }
   ],
   "source": [
    "z_q1 = stats.norm.ppf(0.25)\n",
    "z_q3 = stats.norm.ppf(0.75)\n",
    "z_irq = z_q3 - z_q1\n",
    "z_low_out = z_q1 - 1.5 * z_irq\n",
    "z_low_high = z_q3 + 1.5 * z_irq\n",
    "porc_low = stats.norm.cdf(z_low_out)\n",
    "porc_high = stats.norm.cdf(z_low_high)\n",
    "\n",
    "print('umbral inferior en porcentaje: {:.2}%'.format(porc_low))\n",
    "print('umbral superior en porcentaje: {:.4}%'.format(porc_high))"
   ]
  },
  {
   "cell_type": "markdown",
   "id": "90c4fb9b",
   "metadata": {},
   "source": [
    "Pruebo distribución lognormal"
   ]
  },
  {
   "cell_type": "code",
   "execution_count": 42,
   "id": "7257cd48",
   "metadata": {},
   "outputs": [],
   "source": [
    "price_aprox_usd_not_nulls = df.loc[df['price_aprox_usd'].notnull(), 'price_aprox_usd']\n",
    "x=np.linspace(0,1000000,500)\n",
    "(s_fit, loc_fit, scale_fit) = stats.lognorm.fit(price_aprox_usd_not_nulls)\n",
    "lognormal_fitted = stats.lognorm.pdf(x, s_fit, loc=loc_fit, scale=scale_fit)"
   ]
  },
  {
   "cell_type": "code",
   "execution_count": 43,
   "id": "fb09f719",
   "metadata": {},
   "outputs": [
    {
     "data": {
      "text/plain": [
       "[<matplotlib.lines.Line2D at 0x27d2ebfc970>]"
      ]
     },
     "execution_count": 43,
     "metadata": {},
     "output_type": "execute_result"
    },
    {
     "data": {
      "image/png": "[encoded data removed]",
      "text/plain": [
       "<Figure size 432x288 with 1 Axes>"
      ]
     },
     "metadata": {
      "needs_background": "light"
     },
     "output_type": "display_data"
    }
   ],
   "source": [
    "sns.histplot(price_aprox_usd_not_nulls, binrange =(0,1000000),stat='density')\n",
    "plt.plot(x,lognormal_fitted,'r-')\n"
   ]
  },
  {
   "cell_type": "markdown",
   "id": "d183687b",
   "metadata": {},
   "source": [
    "Según la regla de outliers se deja un 0,35 % de la datos de una distribución normal afuera. Para este caso se será a ser un poco mas restrictivo y se dejará afuera un 1% de los datos de una distribución lognormal."
   ]
  },
  {
   "cell_type": "code",
   "execution_count": 44,
   "id": "d5c342f4",
   "metadata": {},
   "outputs": [
    {
     "name": "stdout",
     "output_type": "stream",
     "text": [
      "Cantidad de datos que clasifico como outliers: 2.8%\n"
     ]
    }
   ],
   "source": [
    "lognorm_low = stats.lognorm.ppf(0.01, s_fit, loc=loc_fit, scale=scale_fit)\n",
    "lognorm_high = stats.lognorm.ppf(0.99, s_fit, loc=loc_fit, scale=scale_fit)\n",
    "\n",
    "aux_low = price_aprox_usd_not_nulls < lognorm_low\n",
    "aux_high = price_aprox_usd_not_nulls > lognorm_high\n",
    "outliers_porc = (aux_low.sum() + aux_high.sum()) / len(price_aprox_usd_not_nulls)\n",
    "print(\"Cantidad de datos que clasifico como outliers: {:.2}%\".format(outliers_porc * 100) )"
   ]
  },
  {
   "cell_type": "code",
   "execution_count": 45,
   "id": "d8241570",
   "metadata": {},
   "outputs": [
    {
     "name": "stdout",
     "output_type": "stream",
     "text": [
      "Umbral inferior lognormal: 23454.092497037473\n",
      "Umbral superior lognormal: 1074252.7126398406\n"
     ]
    }
   ],
   "source": [
    "print('Umbral inferior lognormal: {}'.format(lognorm_low))\n",
    "print('Umbral superior lognormal: {}'.format(lognorm_high))"
   ]
  },
  {
   "cell_type": "markdown",
   "id": "8a3b5e74",
   "metadata": {},
   "source": [
    "Estos valores parecen razonables. Uso estos umbrales para eliminar outliers"
   ]
  },
  {
   "cell_type": "markdown",
   "id": "456b80bd",
   "metadata": {},
   "source": [
    "Genero dataframe con la columna price sin nulos y sin outliers"
   ]
  },
  {
   "cell_type": "code",
   "execution_count": 46,
   "id": "76fcd425",
   "metadata": {},
   "outputs": [],
   "source": [
    "mask_price_not_outliers = np.logical_and(df['price_aprox_usd']>lognorm_low, df['price_aprox_usd']<lognorm_high)\n",
    "mask_price_not_nulls = df['price_aprox_usd'].notnull()\n",
    "mask_price_tidy = np.logical_and(mask_price_not_outliers, mask_price_not_nulls)\n",
    "df_price_tidy = df[mask_price_tidy].copy()"
   ]
  },
  {
   "cell_type": "markdown",
   "id": "a989f5b3",
   "metadata": {},
   "source": [
    "Porcentaje de filas del dataframe luego de quitar precios outliers y nulos con respecto al dataframe inicial"
   ]
  },
  {
   "cell_type": "code",
   "execution_count": 47,
   "id": "ff8565c7",
   "metadata": {},
   "outputs": [
    {
     "data": {
      "text/plain": [
       "81.20112192707474"
      ]
     },
     "execution_count": 47,
     "metadata": {},
     "output_type": "execute_result"
    }
   ],
   "source": [
    "len(df_price_tidy['price_aprox_usd']) / len(df['price_aprox_usd']) * 100"
   ]
  },
  {
   "cell_type": "code",
   "execution_count": 48,
   "id": "13f9c7a1",
   "metadata": {},
   "outputs": [],
   "source": [
    "#Guardo dataframe eliminar para entrega\n",
    "df_price_tidy.to_csv('df_price_tidy.csv')"
   ]
  },
  {
   "cell_type": "markdown",
   "id": "2e84fc7e",
   "metadata": {},
   "source": [
    "<a id=\"section_property_type_column\"></a> \n",
    "## Columna Property_type\n",
    "\n",
    "[volver a TOC](#section_toc)"
   ]
  },
  {
   "cell_type": "markdown",
   "id": "cd84745c",
   "metadata": {},
   "source": [
    "Cantidad de nulos"
   ]
  },
  {
   "cell_type": "code",
   "execution_count": 49,
   "id": "f882b7cc",
   "metadata": {},
   "outputs": [
    {
     "name": "stdout",
     "output_type": "stream",
     "text": [
      "Porcentaje de nulos: 0.00%\n"
     ]
    }
   ],
   "source": [
    "print(\"Porcentaje de nulos: {0:.2f}%\".format(100*df.property_type.isnull().sum()/len(df.property_type)))"
   ]
  },
  {
   "cell_type": "code",
   "execution_count": 50,
   "id": "6f768abc",
   "metadata": {},
   "outputs": [
    {
     "data": {
      "text/plain": [
       "apartment    71065\n",
       "house        40268\n",
       "PH            5751\n",
       "store         4136\n",
       "Name: property_type, dtype: int64"
      ]
     },
     "execution_count": 50,
     "metadata": {},
     "output_type": "execute_result"
    }
   ],
   "source": [
    "df.property_type.value_counts()"
   ]
  },
  {
   "cell_type": "markdown",
   "id": "90ee06ac",
   "metadata": {},
   "source": [
    "La columna \"property_type\" esta correctamente ingresada. No es necesario modificarla"
   ]
  },
  {
   "cell_type": "markdown",
   "id": "c7d5b40a",
   "metadata": {},
   "source": [
    "**Se grafica con bloxpot para visualizar el aporte de esta columna**"
   ]
  },
  {
   "cell_type": "markdown",
   "id": "f4ae1a29",
   "metadata": {},
   "source": [
    "**NOTA: tener en cuenta que la distribución de precios no es normal y tampoco es simétrica al momento de visualizar el boxplot**"
   ]
  },
  {
   "cell_type": "code",
   "execution_count": 51,
   "id": "62f87440",
   "metadata": {},
   "outputs": [
    {
     "data": {
      "text/plain": [
       "[(0.0, 1000000.0)]"
      ]
     },
     "execution_count": 51,
     "metadata": {},
     "output_type": "execute_result"
    },
    {
     "data": {
      "image/png": "[encoded data removed]",
      "text/plain": [
       "<Figure size 432x288 with 1 Axes>"
      ]
     },
     "metadata": {
      "needs_background": "light"
     },
     "output_type": "display_data"
    }
   ],
   "source": [
    "ax = sns.boxplot(x = 'property_type', y='price_aprox_usd', data = df)\n",
    "ax.set(ylim=(0, 1000000))"
   ]
  },
  {
   "cell_type": "markdown",
   "id": "7c51b7c6",
   "metadata": {},
   "source": [
    "Se vuelve a graficar habiendo limpiando la columna de precios."
   ]
  },
  {
   "cell_type": "code",
   "execution_count": 52,
   "id": "7d809ecb",
   "metadata": {},
   "outputs": [
    {
     "data": {
      "text/plain": [
       "[(0.0, 1000000.0)]"
      ]
     },
     "execution_count": 52,
     "metadata": {},
     "output_type": "execute_result"
    },
    {
     "data": {
      "image/png": "[encoded data removed]",
      "text/plain": [
       "<Figure size 432x288 with 1 Axes>"
      ]
     },
     "metadata": {
      "needs_background": "light"
     },
     "output_type": "display_data"
    }
   ],
   "source": [
    "ax = sns.boxplot(x = 'property_type', y='price_aprox_usd', data = df_price_tidy)\n",
    "ax.set(ylim=(0, 1000000))"
   ]
  },
  {
   "cell_type": "markdown",
   "id": "7853cd1f",
   "metadata": {},
   "source": [
    "<a id=\"section_room_column\"></a> \n",
    "## Columna room\n",
    "\n",
    "[volver a TOC](#section_toc)\n"
   ]
  },
  {
   "cell_type": "markdown",
   "id": "c5761feb",
   "metadata": {},
   "source": [
    "**Porcentaje de nulos**"
   ]
  },
  {
   "cell_type": "code",
   "execution_count": 53,
   "id": "f2ccc12c",
   "metadata": {},
   "outputs": [
    {
     "name": "stdout",
     "output_type": "stream",
     "text": [
      "Procentaje de nulos: 60.90579112357697%\n"
     ]
    }
   ],
   "source": [
    "print(\"Procentaje de nulos: {}%\".format(100*df.rooms.isnull().sum()/len(df.rooms)))"
   ]
  },
  {
   "cell_type": "markdown",
   "id": "50b91ca9",
   "metadata": {},
   "source": [
    "**Grafico boxplot para visualizar aporte de esta columna**"
   ]
  },
  {
   "cell_type": "code",
   "execution_count": 54,
   "id": "4537bdf8",
   "metadata": {},
   "outputs": [
    {
     "data": {
      "text/plain": [
       "[(0.0, 1000000.0)]"
      ]
     },
     "execution_count": 54,
     "metadata": {},
     "output_type": "execute_result"
    },
    {
     "data": {
      "image/png": "[encoded data removed]",
      "text/plain": [
       "<Figure size 432x288 with 1 Axes>"
      ]
     },
     "metadata": {
      "needs_background": "light"
     },
     "output_type": "display_data"
    }
   ],
   "source": [
    "ax = sns.boxplot(x = 'rooms', y='price_aprox_usd', data = df)\n",
    "ax.set(ylim=(0, 1000000))"
   ]
  },
  {
   "cell_type": "code",
   "execution_count": 55,
   "id": "8e1c28a3",
   "metadata": {},
   "outputs": [
    {
     "data": {
      "text/plain": [
       "array([ 1.,  2.,  3.,  4.,  5.,  6.,  7.,  8.,  9., 10., 11., 12., 13.,\n",
       "       14., 15., 16., 17., 18., 19., 20., 21., 22., 23., 24., 25., 27.,\n",
       "       28., 29., 30., 31., 32., nan])"
      ]
     },
     "execution_count": 55,
     "metadata": {},
     "output_type": "execute_result"
    }
   ],
   "source": [
    "np.sort(df.rooms.unique())"
   ]
  },
  {
   "cell_type": "code",
   "execution_count": 56,
   "id": "fd65387b",
   "metadata": {},
   "outputs": [
    {
     "data": {
      "text/plain": [
       "3.0     12567\n",
       "2.0     12433\n",
       "4.0      7937\n",
       "1.0      7377\n",
       "5.0      3782\n",
       "6.0      1403\n",
       "7.0       770\n",
       "8.0       409\n",
       "10.0      226\n",
       "9.0       184\n",
       "11.0       72\n",
       "12.0       65\n",
       "13.0       33\n",
       "14.0       27\n",
       "15.0       26\n",
       "17.0       16\n",
       "16.0       11\n",
       "20.0       11\n",
       "22.0        8\n",
       "18.0        6\n",
       "21.0        5\n",
       "30.0        4\n",
       "25.0        4\n",
       "19.0        4\n",
       "32.0        3\n",
       "23.0        2\n",
       "24.0        1\n",
       "27.0        1\n",
       "29.0        1\n",
       "31.0        1\n",
       "28.0        1\n",
       "Name: rooms, dtype: int64"
      ]
     },
     "execution_count": 56,
     "metadata": {},
     "output_type": "execute_result"
    }
   ],
   "source": [
    "df.rooms.value_counts()"
   ]
  },
  {
   "cell_type": "markdown",
   "id": "2476c213",
   "metadata": {},
   "source": [
    "Hay una gran cantidad de valores diferentes para \"rooms\" pero solo algunos valores presentan una cantidad relevante de entradas."
   ]
  },
  {
   "cell_type": "code",
   "execution_count": 57,
   "id": "6c5ca818",
   "metadata": {},
   "outputs": [
    {
     "name": "stdout",
     "output_type": "stream",
     "text": [
      "porcentaje de casas con mas de 10 rooms: 0.25%\n"
     ]
    }
   ],
   "source": [
    "print(\"porcentaje de casas con mas de 10 rooms: {:.2f}%\".format(100*(df['rooms']>10).sum()/ len(df['rooms'])))"
   ]
  },
  {
   "cell_type": "code",
   "execution_count": 58,
   "id": "bca5ad21",
   "metadata": {},
   "outputs": [
    {
     "name": "stdout",
     "output_type": "stream",
     "text": [
      "porcentaje de casas con mas de 7 rooms: 0.92%\n"
     ]
    }
   ],
   "source": [
    "print(\"porcentaje de casas con mas de 7 rooms: {:.2f}%\".format(100*(df['rooms']>7).sum()/ len(df['rooms'])))"
   ]
  },
  {
   "cell_type": "code",
   "execution_count": 59,
   "id": "4af7d399",
   "metadata": {},
   "outputs": [
    {
     "name": "stdout",
     "output_type": "stream",
     "text": [
      "porcentaje de casas con mas de 5 rooms: 2.72%\n"
     ]
    }
   ],
   "source": [
    "print(\"porcentaje de casas con mas de 5 rooms: {:.2f}%\".format(100*(df['rooms']>5).sum()/ len(df['rooms'])))"
   ]
  },
  {
   "cell_type": "markdown",
   "id": "a0c82c6a",
   "metadata": {},
   "source": [
    "Se repite gráfico boxplot considerando las propiedades con rooms < 7."
   ]
  },
  {
   "cell_type": "code",
   "execution_count": 60,
   "id": "404c2eb7",
   "metadata": {},
   "outputs": [
    {
     "data": {
      "text/plain": [
       "[(0.0, 1000000.0)]"
      ]
     },
     "execution_count": 60,
     "metadata": {},
     "output_type": "execute_result"
    },
    {
     "data": {
      "image/png": "[encoded data removed]",
      "text/plain": [
       "<Figure size 432x288 with 1 Axes>"
      ]
     },
     "metadata": {
      "needs_background": "light"
     },
     "output_type": "display_data"
    }
   ],
   "source": [
    "ax = sns.boxplot(x = 'rooms', y='price_aprox_usd', data = df[df.rooms<7])\n",
    "ax.set(ylim=(0, 1000000))"
   ]
  },
  {
   "cell_type": "markdown",
   "id": "02ba62c8",
   "metadata": {},
   "source": [
    "Parece aportar información. Por la cantidad de nulos se podria ver de obtener valores a partir de las columnas description y title."
   ]
  },
  {
   "cell_type": "markdown",
   "id": "8ce9d618",
   "metadata": {},
   "source": [
    "<a id=\"section_impute_rooms_columns\"></a> \n",
    "## Imputacion de rooms\n",
    "\n",
    "[volver a TOC](#section_toc)"
   ]
  },
  {
   "cell_type": "markdown",
   "id": "40969f0f",
   "metadata": {},
   "source": [
    "Se usa regex para obtener valores de rooms mediante las columnas description y title."
   ]
  },
  {
   "cell_type": "markdown",
   "id": "7a298a80",
   "metadata": {},
   "source": [
    "Primero se busca por ambientes:"
   ]
  },
  {
   "cell_type": "code",
   "execution_count": 61,
   "id": "3efe2857",
   "metadata": {},
   "outputs": [],
   "source": [
    "#Función para buscar patrones de cantidad de ambientes\n",
    "def amb_regex(x):\n",
    "    if not isinstance(x, str):\n",
    "        return np.NaN\n",
    "    x = x.lower()\n",
    "    patron_amb = \"((?P<numero_amb>\\d*\\d)\\s*(amb|ambientes))\"\n",
    "    patron_amb_regex = re.compile(patron_amb)\n",
    "    \n",
    "    search = patron_amb_regex.search(x)\n",
    "    if (search is not None):\n",
    "        return int(search.group('numero_amb'))\n",
    "    else:\n",
    "        return np.NaN"
   ]
  },
  {
   "cell_type": "code",
   "execution_count": 62,
   "id": "f8e6ccdf",
   "metadata": {},
   "outputs": [],
   "source": [
    "#Para buscar valores de ambientes utilizo el dataframe original\n",
    "mask_rooms_null = df['rooms'].isnull()\n",
    "data_roomsnull = df.loc[mask_rooms_null].copy()\n",
    "title_result = df['title'].apply(amb_regex)\n",
    "description_result = df['description'].apply(amb_regex)"
   ]
  },
  {
   "cell_type": "code",
   "execution_count": 63,
   "id": "6684c6a6",
   "metadata": {},
   "outputs": [
    {
     "name": "stdout",
     "output_type": "stream",
     "text": [
      "Valores imputados con regex: 21790\n"
     ]
    }
   ],
   "source": [
    "mask_title_and_description = np.logical_or(description_result.notnull(), title_result.notnull())\n",
    "mask_title_and_description = np.logical_and(mask_title_and_description, mask_rooms_null)\n",
    "print(\"Valores imputados con regex: {}\".format(mask_title_and_description.sum()))"
   ]
  },
  {
   "cell_type": "markdown",
   "id": "438708ab",
   "metadata": {},
   "source": [
    "Se combinan ambas series de valores en una:"
   ]
  },
  {
   "cell_type": "code",
   "execution_count": 64,
   "id": "0bad2314",
   "metadata": {},
   "outputs": [],
   "source": [
    "def union(x):\n",
    "    if not np.isnan(x['title']):\n",
    "        return x['title']\n",
    "    \n",
    "    if not np.isnan(x['description']):\n",
    "        return x['description']\n",
    "    \n",
    "    return np.NaN\n",
    "\n",
    "df_description_title = pd.merge(description_result, title_result, right_index=True, left_index=True)\n",
    "result_amb_regex = df_description_title.apply(union, axis=1)"
   ]
  },
  {
   "cell_type": "markdown",
   "id": "e1b3d978",
   "metadata": {},
   "source": [
    "Se inspecciona la dataseries resultante"
   ]
  },
  {
   "cell_type": "code",
   "execution_count": 65,
   "id": "cb107be9",
   "metadata": {},
   "outputs": [
    {
     "data": {
      "text/plain": [
       "3.0     7084\n",
       "2.0     7073\n",
       "4.0     4291\n",
       "5.0     1344\n",
       "1.0     1328\n",
       "6.0      416\n",
       "7.0      157\n",
       "8.0       32\n",
       "9.0       16\n",
       "11.0       8\n",
       "dtype: int64"
      ]
     },
     "execution_count": 65,
     "metadata": {},
     "output_type": "execute_result"
    }
   ],
   "source": [
    "result_amb_regex[mask_rooms_null].value_counts().head(10)"
   ]
  },
  {
   "cell_type": "code",
   "execution_count": 66,
   "id": "809ec62c",
   "metadata": {},
   "outputs": [
    {
     "data": {
      "text/plain": [
       "0.9981184029371272"
      ]
     },
     "execution_count": 66,
     "metadata": {},
     "output_type": "execute_result"
    }
   ],
   "source": [
    "(result_amb_regex[mask_rooms_null] <= 10).sum() / result_amb_regex[mask_rooms_null].notnull().sum()"
   ]
  },
  {
   "cell_type": "markdown",
   "id": "d75bcabc",
   "metadata": {},
   "source": [
    "Las propiedades con 10 o menos ambientes abarcan cerca del 99.8% de la valores de ambientes encontrados. Se utilizan estos valores para imputar"
   ]
  },
  {
   "cell_type": "code",
   "execution_count": 67,
   "id": "229528d9",
   "metadata": {},
   "outputs": [],
   "source": [
    "mask_amb_below_11 = result_amb_regex < 11\n",
    "mask_rooms_null_amb_below_11 = np.logical_and(mask_amb_below_11, mask_rooms_null )\n",
    "df.loc[mask_rooms_null_amb_below_11,'rooms'] = result_amb_regex[mask_rooms_null_amb_below_11]"
   ]
  },
  {
   "cell_type": "markdown",
   "id": "027d327c",
   "metadata": {},
   "source": [
    "Se aplica lo mismo para el dataframe que se habian limpiado los valores de precios"
   ]
  },
  {
   "cell_type": "code",
   "execution_count": 68,
   "id": "ceb91b85",
   "metadata": {},
   "outputs": [],
   "source": [
    "mask_rooms_null = df_price_tidy['rooms'].isnull()\n",
    "data_roomsnull = df_price_tidy.loc[mask_rooms_null].copy()\n",
    "title_result = df_price_tidy['title'].apply(amb_regex)\n",
    "description_result = df_price_tidy['description'].apply(amb_regex)\n",
    "\n",
    "mask_title_and_description = np.logical_or(description_result.notnull(), title_result.notnull())\n",
    "mask_title_and_description = np.logical_and(mask_title_and_description, mask_rooms_null)\n",
    "\n",
    "df_description_title = pd.merge(description_result, title_result, right_index=True, left_index=True)\n",
    "result_amb_regex = df_description_title.apply(union, axis=1)\n",
    "\n",
    "mask_amb_below_11 = result_amb_regex < 11\n",
    "mask_rooms_null_amb_below_11 = np.logical_and(mask_amb_below_11, mask_rooms_null )\n",
    "df_price_tidy.loc[mask_rooms_null_amb_below_11,'rooms'] = result_amb_regex[mask_rooms_null_amb_below_11]"
   ]
  },
  {
   "cell_type": "markdown",
   "id": "42c7d182",
   "metadata": {},
   "source": [
    "Se prueba de imputar rooms buscando dormitorios. Para ver si tiene sentido imputar de esta manera se busca las propiedades que tienen valores rooms y que presentan cantidad de dormitorios en description o title, y se contrastan estos valores:"
   ]
  },
  {
   "cell_type": "code",
   "execution_count": 69,
   "id": "7a2c2432",
   "metadata": {},
   "outputs": [],
   "source": [
    "#Función para buscar patrones de cantidad de dormitorios\n",
    "def dorm_regex(x):\n",
    "    if not isinstance(x, str):\n",
    "        return np.NaN\n",
    "    x = x.lower()\n",
    "    \n",
    "    patron_dorm = \"((?P<numero_dorm>\\d*\\d)\\s*(dormitorios|dorm))\"\n",
    "    patron_dorm_regex = re.compile(patron_dorm)\n",
    "    \n",
    "    search = patron_dorm_regex.search(x)\n",
    "    if (search is not None):\n",
    "        return int(search.group('numero_dorm'))\n",
    "    \n",
    "    else:\n",
    "        return np.NaN"
   ]
  },
  {
   "cell_type": "code",
   "execution_count": 70,
   "id": "54ee7514",
   "metadata": {},
   "outputs": [
    {
     "data": {
      "text/plain": [
       "rooms\n",
       "1.0     1.0\n",
       "2.0     1.0\n",
       "3.0     2.0\n",
       "4.0     3.0\n",
       "5.0     3.0\n",
       "6.0     3.0\n",
       "7.0     3.0\n",
       "8.0     3.0\n",
       "9.0     3.0\n",
       "10.0    3.0\n",
       "11.0    3.0\n",
       "12.0    4.0\n",
       "13.0    3.0\n",
       "14.0    3.0\n",
       "15.0    3.0\n",
       "Name: union, dtype: float64"
      ]
     },
     "execution_count": 70,
     "metadata": {},
     "output_type": "execute_result"
    }
   ],
   "source": [
    "title_regex_dorm = df['title'].apply(dorm_regex)\n",
    "description_regex_dorm = df['description'].apply(dorm_regex)\n",
    "df_description_title_dorm = pd.merge(description_regex_dorm, title_regex_dorm, right_index=True, left_index=True)\n",
    "result_dorm_regex = df_description_title_dorm.apply(union, axis=1)\n",
    "\n",
    "df_prueba_dorm = df.copy()\n",
    "df_prueba_dorm['union'] =  result_dorm_regex\n",
    "df_dorm_groupby = df_prueba_dorm.groupby(by = 'rooms')\n",
    "df_dorm_groupby['union'].median().head(15)"
   ]
  },
  {
   "cell_type": "markdown",
   "id": "d70dee3b",
   "metadata": {},
   "source": [
    "En la tabla de arriba se presentan los valores de la mediana de los dormitorios encontrados con regex agrupados según el valor de room de las propiedades. Se encuentra que no hay una relación marcada entre rooms y dormitorios, y por lo tanto no se imputa con estos valores."
   ]
  },
  {
   "cell_type": "markdown",
   "id": "b2433347",
   "metadata": {},
   "source": [
    "<a id=\"section_m2_columns\"></a> \n",
    "## Columnas m2 y precio por m2\n",
    "\n",
    "[volver a TOC](#section_toc)"
   ]
  },
  {
   "cell_type": "markdown",
   "id": "b7310ea2",
   "metadata": {},
   "source": [
    "**Se grafica precio vs superficie para ver aporte de estas columnas**"
   ]
  },
  {
   "cell_type": "code",
   "execution_count": 71,
   "id": "725d6390",
   "metadata": {},
   "outputs": [
    {
     "data": {
      "text/plain": [
       "<seaborn.axisgrid.PairGrid at 0x27d24709070>"
      ]
     },
     "execution_count": 71,
     "metadata": {},
     "output_type": "execute_result"
    },
    {
     "data": {
      "image/png": "[encoded data removed]",
      "text/plain": [
       "<Figure size 808.5x360 with 2 Axes>"
      ]
     },
     "metadata": {
      "needs_background": "light"
     },
     "output_type": "display_data"
    }
   ],
   "source": [
    "ax =sns.pairplot(df, hue='property_type', x_vars = ['surface_total_in_m2','surface_covered_in_m2'] , y_vars = 'price_aprox_usd', height=5, diag_kind = None);\n",
    "ax.set(xlim=(0, 1000), ylim=(0,2000000))"
   ]
  },
  {
   "cell_type": "markdown",
   "id": "94bbfb0f",
   "metadata": {},
   "source": [
    "Covarianzas entre precio y superficies"
   ]
  },
  {
   "cell_type": "code",
   "execution_count": 72,
   "id": "c4c448f7",
   "metadata": {},
   "outputs": [
    {
     "data": {
      "text/html": [
       "<div>\n",
       "<style scoped>\n",
       "    .dataframe tbody tr th:only-of-type {\n",
       "        vertical-align: middle;\n",
       "    }\n",
       "\n",
       "    .dataframe tbody tr th {\n",
       "        vertical-align: top;\n",
       "    }\n",
       "\n",
       "    .dataframe thead th {\n",
       "        text-align: right;\n",
       "    }\n",
       "</style>\n",
       "<table border=\"1\" class=\"dataframe\">\n",
       "  <thead>\n",
       "    <tr style=\"text-align: right;\">\n",
       "      <th></th>\n",
       "      <th>price_aprox_usd</th>\n",
       "      <th>surface_covered_in_m2</th>\n",
       "      <th>surface_total_in_m2</th>\n",
       "    </tr>\n",
       "  </thead>\n",
       "  <tbody>\n",
       "    <tr>\n",
       "      <th>price_aprox_usd</th>\n",
       "      <td>1.000000</td>\n",
       "      <td>0.165536</td>\n",
       "      <td>0.293830</td>\n",
       "    </tr>\n",
       "    <tr>\n",
       "      <th>surface_covered_in_m2</th>\n",
       "      <td>0.165536</td>\n",
       "      <td>1.000000</td>\n",
       "      <td>0.195453</td>\n",
       "    </tr>\n",
       "    <tr>\n",
       "      <th>surface_total_in_m2</th>\n",
       "      <td>0.293830</td>\n",
       "      <td>0.195453</td>\n",
       "      <td>1.000000</td>\n",
       "    </tr>\n",
       "  </tbody>\n",
       "</table>\n",
       "</div>"
      ],
      "text/plain": [
       "                       price_aprox_usd  surface_covered_in_m2  \\\n",
       "price_aprox_usd               1.000000               0.165536   \n",
       "surface_covered_in_m2         0.165536               1.000000   \n",
       "surface_total_in_m2           0.293830               0.195453   \n",
       "\n",
       "                       surface_total_in_m2  \n",
       "price_aprox_usd                   0.293830  \n",
       "surface_covered_in_m2             0.195453  \n",
       "surface_total_in_m2               1.000000  "
      ]
     },
     "execution_count": 72,
     "metadata": {},
     "output_type": "execute_result"
    }
   ],
   "source": [
    "df[['price_aprox_usd', 'surface_covered_in_m2', 'surface_total_in_m2']].corr()"
   ]
  },
  {
   "cell_type": "markdown",
   "id": "24bc23e3",
   "metadata": {},
   "source": [
    "Sacando outliers y trabajando mejor las columnas parece que podrian aportar información."
   ]
  },
  {
   "cell_type": "markdown",
   "id": "f76b338a",
   "metadata": {},
   "source": [
    "**Porcentaje de nulos**"
   ]
  },
  {
   "cell_type": "code",
   "execution_count": 73,
   "id": "dda636e0",
   "metadata": {},
   "outputs": [
    {
     "name": "stdout",
     "output_type": "stream",
     "text": [
      "Procentaje de nulos surface_total: 32.44349117307375%\n",
      "Procentaje de nulos surface_covered: 16.422207556508827%\n",
      "Procentaje de nulos price_usd_per_m2: 43.394654347467416%\n",
      "Procentaje de nulos price_per_m2: 27.686850354726943%\n"
     ]
    }
   ],
   "source": [
    "print(\"Procentaje de nulos surface_total: {}%\".format(100*df.surface_total_in_m2.isnull().sum()/len(df.rooms)))\n",
    "print(\"Procentaje de nulos surface_covered: {}%\".format(100*df.surface_covered_in_m2.isnull().sum()/len(df.rooms)))\n",
    "print(\"Procentaje de nulos price_usd_per_m2: {}%\".format(100*df.price_usd_per_m2.isnull().sum()/len(df.rooms)))\n",
    "print(\"Procentaje de nulos price_per_m2: {}%\".format(100*df.price_per_m2.isnull().sum()/len(df.rooms)))"
   ]
  },
  {
   "cell_type": "markdown",
   "id": "d493d214",
   "metadata": {},
   "source": [
    "**Busco relacion entre las columnas de m2 y de precio por m2**"
   ]
  },
  {
   "cell_type": "markdown",
   "id": "419f5e69",
   "metadata": {},
   "source": [
    "Se grafica histograma de: price_per_m2 * surface_covered_in_m2 / precio_aprox_usd:"
   ]
  },
  {
   "cell_type": "code",
   "execution_count": 74,
   "id": "7ca1af33",
   "metadata": {},
   "outputs": [
    {
     "data": {
      "text/plain": [
       "<AxesSubplot:ylabel='Count'>"
      ]
     },
     "execution_count": 74,
     "metadata": {},
     "output_type": "execute_result"
    },
    {
     "data": {
      "image/png": "[encoded data removed]",
      "text/plain": [
       "<Figure size 432x288 with 1 Axes>"
      ]
     },
     "metadata": {
      "needs_background": "light"
     },
     "output_type": "display_data"
    }
   ],
   "source": [
    "price_usd_calculated = df['price_per_m2'] * df['surface_covered_in_m2']\n",
    "ratio_prices = price_usd_calculated/df['price_aprox_usd']\n",
    "sns.histplot(ratio_prices, bins=14, binrange=(0,2))"
   ]
  },
  {
   "cell_type": "markdown",
   "id": "a7559c78",
   "metadata": {},
   "source": [
    "Grafico histograma de: price_usd_per_m2 * surface_total_in_m2 / precio_aprox_usd"
   ]
  },
  {
   "cell_type": "code",
   "execution_count": 75,
   "id": "5b2d0ac6",
   "metadata": {},
   "outputs": [],
   "source": [
    "price_usd_calculated = df['price_usd_per_m2'] * df['surface_total_in_m2']\n",
    "ratio_prices = price_usd_calculated/df['price_aprox_usd']"
   ]
  },
  {
   "cell_type": "code",
   "execution_count": 76,
   "id": "a44a9fbd",
   "metadata": {},
   "outputs": [
    {
     "data": {
      "text/plain": [
       "<AxesSubplot:ylabel='Count'>"
      ]
     },
     "execution_count": 76,
     "metadata": {},
     "output_type": "execute_result"
    },
    {
     "data": {
      "image/png": "[encoded data removed]",
      "text/plain": [
       "<Figure size 432x288 with 1 Axes>"
      ]
     },
     "metadata": {
      "needs_background": "light"
     },
     "output_type": "display_data"
    }
   ],
   "source": [
    "sns.histplot(ratio_prices, bins=14, binrange=(0,2))"
   ]
  },
  {
   "cell_type": "markdown",
   "id": "a9c50af0",
   "metadata": {},
   "source": [
    "De acuerdo a los dos histogramas se cumplió lo siguiente:\n",
    "* price_usd_per_m2 = price_aprox_usd / surface_total_in_m2\n",
    "* price_per_m2 = price_aprox_usd / surface_covered_in_m2\n",
    "    "
   ]
  },
  {
   "cell_type": "markdown",
   "id": "74671767",
   "metadata": {},
   "source": [
    "Las columnas de precio por m2 no aportan información. Se obtienen a partir de la columna de precio y las columnas de superficie. En base a esto se eliminan las columnas de precio por m2."
   ]
  },
  {
   "cell_type": "markdown",
   "id": "b7bc01f9",
   "metadata": {},
   "source": [
    "***Debido a la cantidad de valores nulos de las columnas habria que estudiar la posibilidad de imputar valores utilizando otras columnas, por ejemplo description y title***"
   ]
  },
  {
   "cell_type": "markdown",
   "id": "1a45cc0c",
   "metadata": {},
   "source": [
    "<a id=\"section_impute_m2_columns\"></a> \n",
    "## Imputacion de superficie\n",
    "\n",
    "[volver a TOC](#section_toc)"
   ]
  },
  {
   "cell_type": "markdown",
   "id": "e1be9d09",
   "metadata": {},
   "source": [
    "Se busca imputar valores de superficie cubierta usando la columna rooms."
   ]
  },
  {
   "cell_type": "markdown",
   "id": "1bf33855",
   "metadata": {},
   "source": [
    "Primero se revisa cuantas propiedades hay que tengan rooms y no tengan superficie cubierta."
   ]
  },
  {
   "cell_type": "code",
   "execution_count": 77,
   "id": "153a96e0",
   "metadata": {},
   "outputs": [
    {
     "name": "stdout",
     "output_type": "stream",
     "text": [
      "Cantidad de propiedades: 5774\n"
     ]
    },
    {
     "data": {
      "text/plain": [
       "2.0     1873\n",
       "3.0     1813\n",
       "4.0      840\n",
       "1.0      668\n",
       "5.0      325\n",
       "6.0      122\n",
       "7.0       51\n",
       "8.0       33\n",
       "10.0      18\n",
       "9.0       10\n",
       "11.0       6\n",
       "14.0       4\n",
       "15.0       3\n",
       "13.0       3\n",
       "12.0       2\n",
       "16.0       1\n",
       "20.0       1\n",
       "19.0       1\n",
       "Name: rooms, dtype: int64"
      ]
     },
     "execution_count": 77,
     "metadata": {},
     "output_type": "execute_result"
    }
   ],
   "source": [
    "mask_rooms_notnull = df_price_tidy['rooms'].notnull()\n",
    "mask_surface_covered_null = df_price_tidy['surface_covered_in_m2'].isnull()\n",
    "mask_rooms_null_surface_notnull = np.logical_and(mask_rooms_notnull, mask_surface_covered_null)\n",
    "print('Cantidad de propiedades: {}'.format(mask_rooms_null_surface_notnull.sum()))\n",
    "df_price_tidy.loc[mask_rooms_null_surface_notnull, 'rooms'].value_counts()"
   ]
  },
  {
   "cell_type": "markdown",
   "id": "7168cd3f",
   "metadata": {},
   "source": [
    "Se grafica la superficies para propiedades con 2 rooms y apartments."
   ]
  },
  {
   "cell_type": "code",
   "execution_count": 78,
   "id": "15df5fc0",
   "metadata": {},
   "outputs": [
    {
     "data": {
      "text/plain": [
       "<AxesSubplot:xlabel='surface_covered_in_m2', ylabel='Count'>"
      ]
     },
     "execution_count": 78,
     "metadata": {},
     "output_type": "execute_result"
    },
    {
     "data": {
      "image/png": "[encoded data removed]",
      "text/plain": [
       "<Figure size 432x288 with 1 Axes>"
      ]
     },
     "metadata": {
      "needs_background": "light"
     },
     "output_type": "display_data"
    }
   ],
   "source": [
    "#Trabajo con el dataframe original\n",
    "mask_apartment = df['property_type'] == 'apartment'\n",
    "mask_2_rooms = df['rooms'] == 2\n",
    "mask_apartment_and_2rooms = np.logical_and(mask_apartment,mask_2_rooms)\n",
    "surface_covered_2rooms = df.loc[mask_apartment_and_2rooms, 'surface_covered_in_m2']\n",
    "sns.histplot(surface_covered_2rooms, binrange=(0,100))"
   ]
  },
  {
   "cell_type": "code",
   "execution_count": 79,
   "id": "1d6956f8",
   "metadata": {},
   "outputs": [
    {
     "name": "stdout",
     "output_type": "stream",
     "text": [
      "Porcentaje de propiedades con superfices entre 35 m2 y 55 m2: 0.5599302778632216\n"
     ]
    }
   ],
   "source": [
    "mask_surface_below_55 = df['surface_covered_in_m2'] < 55\n",
    "mask_surface_above_35 = df['surface_covered_in_m2'] > 35\n",
    "mask_surface_between_35_55 = np.logical_and(mask_surface_below_55, mask_surface_above_35)\n",
    "mask_2rooms_surface_35_55 = np.logical_and(mask_surface_between_35_55, mask_2_rooms)\n",
    "proporcion_2_rooms_surface_35_55 = mask_2rooms_surface_35_55.sum() / mask_2_rooms.sum()\n",
    "print('Porcentaje de propiedades con superfices entre 35 m2 y 55 m2: {}'.format(proporcion_2_rooms_surface_35_55))"
   ]
  },
  {
   "cell_type": "markdown",
   "id": "1bd0da72",
   "metadata": {},
   "source": [
    "Se calcula la mediana de la superficie cubierta para departamentos agrupando por rooms."
   ]
  },
  {
   "cell_type": "code",
   "execution_count": 80,
   "id": "08a635bd",
   "metadata": {},
   "outputs": [
    {
     "data": {
      "text/plain": [
       "rooms\n",
       "1.0     34.0\n",
       "2.0     46.0\n",
       "3.0     70.0\n",
       "4.0     99.0\n",
       "5.0    153.0\n",
       "6.0    185.0\n",
       "Name: surface_covered_in_m2, dtype: float64"
      ]
     },
     "execution_count": 80,
     "metadata": {},
     "output_type": "execute_result"
    }
   ],
   "source": [
    "mask_apartment = df['property_type'] == 'apartment'\n",
    "mask_rooms_below_7 = df['rooms'] < 7\n",
    "mask_apartment_and_rooms_below_7 = np.logical_and(mask_apartment, mask_rooms_below_7)\n",
    "df_groupby_property = df[mask_apartment_and_rooms_below_7].groupby('rooms')\n",
    "df_groupby_property['surface_covered_in_m2'].median()"
   ]
  },
  {
   "cell_type": "markdown",
   "id": "a5791f35",
   "metadata": {},
   "source": [
    "El caso analizado presentó una dispersión considerable de la superficie por lo que imputar de esta manera puede ocasionar errores significativos. Debido a esto no se imputa de esta manera por el momento, dejándose para un futuro análisis con más profundidad."
   ]
  },
  {
   "cell_type": "markdown",
   "id": "5b2d010c",
   "metadata": {},
   "source": [
    "<a id=\"outliers_m2_columns\"></a> \n",
    "## Outliers de superficie\n",
    "\n",
    "[volver a TOC](#section_toc)"
   ]
  },
  {
   "cell_type": "markdown",
   "id": "ad8bb4fe",
   "metadata": {},
   "source": [
    "Se grafica distribución de surface_covered_in_m2:"
   ]
  },
  {
   "cell_type": "code",
   "execution_count": 81,
   "id": "9a34614d",
   "metadata": {},
   "outputs": [
    {
     "data": {
      "text/plain": [
       "<AxesSubplot:xlabel='surface_covered_in_m2', ylabel='Count'>"
      ]
     },
     "execution_count": 81,
     "metadata": {},
     "output_type": "execute_result"
    },
    {
     "data": {
      "image/png": "[encoded data removed]",
      "text/plain": [
       "<Figure size 432x288 with 1 Axes>"
      ]
     },
     "metadata": {
      "needs_background": "light"
     },
     "output_type": "display_data"
    }
   ],
   "source": [
    "surface_covered_not_nulls = df.loc[df['surface_covered_in_m2'].notnull(), 'surface_covered_in_m2']\n",
    "sns.histplot(surface_covered_not_nulls, binrange=[0,1000])"
   ]
  },
  {
   "cell_type": "markdown",
   "id": "38435a48",
   "metadata": {},
   "source": [
    "Se fitea lognormal y se calculan los valores umbrales dejando afuera el 1% de la distribución para cada uno de los lados:"
   ]
  },
  {
   "cell_type": "code",
   "execution_count": 82,
   "id": "52eb3056",
   "metadata": {},
   "outputs": [],
   "source": [
    "x=np.linspace(0,1000,500)\n",
    "(s_fit, loc_fit, scale_fit) = stats.lognorm.fit(surface_covered_not_nulls)\n",
    "lognormal_fitted = stats.lognorm.pdf(x, s_fit, loc=loc_fit, scale=scale_fit)"
   ]
  },
  {
   "cell_type": "code",
   "execution_count": 83,
   "id": "e6dbdbb6",
   "metadata": {},
   "outputs": [
    {
     "data": {
      "text/plain": [
       "[<matplotlib.lines.Line2D at 0x27d280a0250>]"
      ]
     },
     "execution_count": 83,
     "metadata": {},
     "output_type": "execute_result"
    },
    {
     "data": {
      "image/png": "[encoded data removed]",
      "text/plain": [
       "<Figure size 432x288 with 1 Axes>"
      ]
     },
     "metadata": {
      "needs_background": "light"
     },
     "output_type": "display_data"
    }
   ],
   "source": [
    "sns.histplot(df['surface_covered_in_m2'], binrange =(0,1000),stat='density')\n",
    "plt.plot(x,lognormal_fitted,'r-')"
   ]
  },
  {
   "cell_type": "code",
   "execution_count": 84,
   "id": "fabdfaa0",
   "metadata": {},
   "outputs": [
    {
     "name": "stdout",
     "output_type": "stream",
     "text": [
      "Umbral inferior: 11.0 m2\n",
      "Umbral superior: 570.7 m2\n",
      "Cantidad de datos que clasifico como outliers: 1.7%\n"
     ]
    }
   ],
   "source": [
    "surface_covered_lognorm_low = stats.lognorm.ppf(0.01, s_fit, loc=loc_fit, scale=scale_fit)\n",
    "surface_covered_lognorm_high = stats.lognorm.ppf(0.99, s_fit, loc=loc_fit, scale=scale_fit)\n",
    "\n",
    "aux_low = surface_covered_not_nulls < surface_covered_lognorm_low\n",
    "aux_high = surface_covered_not_nulls > surface_covered_lognorm_high\n",
    "surface_covered_outliers_porc = (aux_low.sum() + aux_high.sum()) / len(surface_covered_not_nulls)\n",
    "\n",
    "print('Umbral inferior: {:.4} m2'.format(surface_covered_lognorm_low))\n",
    "print('Umbral superior: {:.4} m2'.format(surface_covered_lognorm_high))\n",
    "print(\"Cantidad de datos que clasifico como outliers: {:.2}%\".format(surface_covered_outliers_porc * 100) )"
   ]
  },
  {
   "cell_type": "markdown",
   "id": "f0d1d4db",
   "metadata": {},
   "source": [
    "Se crea un dataframe que tengra price_aprox_usd y surface_covered sin nulos y sin outliers."
   ]
  },
  {
   "cell_type": "code",
   "execution_count": 85,
   "id": "5cf408bd",
   "metadata": {},
   "outputs": [],
   "source": [
    "mask_surface_covered_not_outliers = np.logical_and(\n",
    "    df_price_tidy['surface_covered_in_m2'] > surface_covered_lognorm_low, \n",
    "    df_price_tidy['surface_covered_in_m2'] < surface_covered_lognorm_high)\n",
    "mask_surface_covered_not_nulls = df_price_tidy['surface_covered_in_m2'].notnull()\n",
    "mask_surface_tidy = np.logical_and(mask_surface_covered_not_outliers, \n",
    "                                   mask_surface_covered_not_nulls)\n",
    "df_price_surface_tidy = df_price_tidy[mask_surface_tidy].copy()"
   ]
  },
  {
   "cell_type": "markdown",
   "id": "4a2c603e",
   "metadata": {},
   "source": [
    "Porcentaje del dataframe con price_aprox_usd y surface_covered sin outliers y sin nulos con respecto al dataframe original:"
   ]
  },
  {
   "cell_type": "code",
   "execution_count": 86,
   "id": "27821106",
   "metadata": {},
   "outputs": [
    {
     "data": {
      "text/plain": [
       "69.95132816366936"
      ]
     },
     "execution_count": 86,
     "metadata": {},
     "output_type": "execute_result"
    }
   ],
   "source": [
    "df_price_surface_tidy.shape[0] / df.shape[0] * 100"
   ]
  },
  {
   "cell_type": "markdown",
   "id": "2c3597dd",
   "metadata": {},
   "source": [
    "<a id=\"section_geo_columns\"></a> \n",
    "## Columnas de ubicacion geografica\n",
    "\n",
    "[volver a TOC](#section_toc)"
   ]
  },
  {
   "cell_type": "code",
   "execution_count": 87,
   "id": "9d32fcc1",
   "metadata": {},
   "outputs": [
    {
     "data": {
      "text/html": [
       "<div>\n",
       "<style scoped>\n",
       "    .dataframe tbody tr th:only-of-type {\n",
       "        vertical-align: middle;\n",
       "    }\n",
       "\n",
       "    .dataframe tbody tr th {\n",
       "        vertical-align: top;\n",
       "    }\n",
       "\n",
       "    .dataframe thead th {\n",
       "        text-align: right;\n",
       "    }\n",
       "</style>\n",
       "<table border=\"1\" class=\"dataframe\">\n",
       "  <thead>\n",
       "    <tr style=\"text-align: right;\">\n",
       "      <th></th>\n",
       "      <th>place_name</th>\n",
       "      <th>place_with_parent_names</th>\n",
       "      <th>state_name</th>\n",
       "      <th>lat-lon</th>\n",
       "      <th>lat</th>\n",
       "      <th>lon</th>\n",
       "    </tr>\n",
       "  </thead>\n",
       "  <tbody>\n",
       "    <tr>\n",
       "      <th>0</th>\n",
       "      <td>Mataderos</td>\n",
       "      <td>|Argentina|Capital Federal|Mataderos|</td>\n",
       "      <td>Capital Federal</td>\n",
       "      <td>-34.6618237,-58.5088387</td>\n",
       "      <td>-34.661824</td>\n",
       "      <td>-58.508839</td>\n",
       "    </tr>\n",
       "    <tr>\n",
       "      <th>2</th>\n",
       "      <td>Mataderos</td>\n",
       "      <td>|Argentina|Capital Federal|Mataderos|</td>\n",
       "      <td>Capital Federal</td>\n",
       "      <td>-34.6522615,-58.5229825</td>\n",
       "      <td>-34.652262</td>\n",
       "      <td>-58.522982</td>\n",
       "    </tr>\n",
       "    <tr>\n",
       "      <th>4</th>\n",
       "      <td>Centro</td>\n",
       "      <td>|Argentina|Buenos Aires Costa Atlántica|Mar de...</td>\n",
       "      <td>Buenos Aires Costa Atlántica</td>\n",
       "      <td>-38.0026256,-57.5494468</td>\n",
       "      <td>-38.002626</td>\n",
       "      <td>-57.549447</td>\n",
       "    </tr>\n",
       "    <tr>\n",
       "      <th>6</th>\n",
       "      <td>Munro</td>\n",
       "      <td>|Argentina|Bs.As. G.B.A. Zona Norte|Vicente Ló...</td>\n",
       "      <td>Bs.As. G.B.A. Zona Norte</td>\n",
       "      <td>-34.5329567,-58.5217825</td>\n",
       "      <td>-34.532957</td>\n",
       "      <td>-58.521782</td>\n",
       "    </tr>\n",
       "    <tr>\n",
       "      <th>7</th>\n",
       "      <td>Belgrano</td>\n",
       "      <td>|Argentina|Capital Federal|Belgrano|</td>\n",
       "      <td>Capital Federal</td>\n",
       "      <td>-34.5598729,-58.443362</td>\n",
       "      <td>-34.559873</td>\n",
       "      <td>-58.443362</td>\n",
       "    </tr>\n",
       "  </tbody>\n",
       "</table>\n",
       "</div>"
      ],
      "text/plain": [
       "  place_name                            place_with_parent_names  \\\n",
       "0  Mataderos              |Argentina|Capital Federal|Mataderos|   \n",
       "2  Mataderos              |Argentina|Capital Federal|Mataderos|   \n",
       "4     Centro  |Argentina|Buenos Aires Costa Atlántica|Mar de...   \n",
       "6      Munro  |Argentina|Bs.As. G.B.A. Zona Norte|Vicente Ló...   \n",
       "7   Belgrano               |Argentina|Capital Federal|Belgrano|   \n",
       "\n",
       "                     state_name                  lat-lon        lat        lon  \n",
       "0               Capital Federal  -34.6618237,-58.5088387 -34.661824 -58.508839  \n",
       "2               Capital Federal  -34.6522615,-58.5229825 -34.652262 -58.522982  \n",
       "4  Buenos Aires Costa Atlántica  -38.0026256,-57.5494468 -38.002626 -57.549447  \n",
       "6      Bs.As. G.B.A. Zona Norte  -34.5329567,-58.5217825 -34.532957 -58.521782  \n",
       "7               Capital Federal   -34.5598729,-58.443362 -34.559873 -58.443362  "
      ]
     },
     "execution_count": 87,
     "metadata": {},
     "output_type": "execute_result"
    }
   ],
   "source": [
    "geographic_columns = ['place_name','place_with_parent_names','state_name','lat-lon','lat','lon']\n",
    "df_price_surface_tidy[geographic_columns].head()"
   ]
  },
  {
   "cell_type": "markdown",
   "id": "f1992e94",
   "metadata": {},
   "source": [
    "Se calcula la cantidad de valores nulos como porcentaje del total de valores:"
   ]
  },
  {
   "cell_type": "code",
   "execution_count": 88,
   "id": "46325b90",
   "metadata": {},
   "outputs": [
    {
     "data": {
      "text/plain": [
       "place_name                  0.023586\n",
       "place_with_parent_names     0.000000\n",
       "state_name                  0.000000\n",
       "lat-lon                    41.574385\n",
       "lat                        41.574385\n",
       "lon                        41.574385\n",
       "dtype: float64"
      ]
     },
     "execution_count": 88,
     "metadata": {},
     "output_type": "execute_result"
    }
   ],
   "source": [
    "df_price_surface_tidy[geographic_columns].isnull().sum() / df_price_surface_tidy[geographic_columns].shape[0]*100"
   ]
  },
  {
   "cell_type": "markdown",
   "id": "ce58bebc",
   "metadata": {},
   "source": [
    "Las columnas de latitud y longitud tienen una gran cantidad de valores nulos, y por lo tanto muchas posibilidades de ser descartadas.\n",
    "Las columnas place_name y state_name parecen ser generadas a partir de place_with_parent_names y ésta parece tener varios niveles\n",
    "\n",
    "Se inspeccionan los valores de place_with_parent_names que incluyen a Mar del Plata."
   ]
  },
  {
   "cell_type": "code",
   "execution_count": 89,
   "id": "55b09597",
   "metadata": {},
   "outputs": [
    {
     "data": {
      "text/plain": [
       "|Argentina|Buenos Aires Costa Atlántica|Mar del Plata|                 4302\n",
       "|Argentina|Buenos Aires Costa Atlántica|Mar del Plata|Centro|           170\n",
       "|Argentina|Buenos Aires Costa Atlántica|Mar del Plata|Plaza Mitre|      100\n",
       "|Argentina|Buenos Aires Costa Atlántica|Mar del Plata|Güemes|            73\n",
       "|Argentina|Buenos Aires Costa Atlántica|Mar del Plata|Constitución|      71\n",
       "|Argentina|Buenos Aires Costa Atlántica|Mar del Plata|Chauvín|           68\n",
       "|Argentina|Buenos Aires Costa Atlántica|Mar del Plata|La Perla|          55\n",
       "|Argentina|Buenos Aires Costa Atlántica|Mar del Plata|Playa Grande|      50\n",
       "|Argentina|Buenos Aires Costa Atlántica|Mar del Plata|Plaza Colón|       42\n",
       "|Argentina|Buenos Aires Costa Atlántica|Mar del Plata|Playa Chica|       27\n",
       "Name: place_with_parent_names, dtype: int64"
      ]
     },
     "execution_count": 89,
     "metadata": {},
     "output_type": "execute_result"
    }
   ],
   "source": [
    "df_mar_del_plata = df_price_surface_tidy['place_with_parent_names'].apply(lambda x: x if 'Mar del Plata' in x else np.NaN)\n",
    "df_mar_del_plata.value_counts().head(10)"
   ]
  },
  {
   "cell_type": "markdown",
   "id": "117501af",
   "metadata": {},
   "source": [
    "La mayoria de los valores termina en el nivel de Mar del Plata pero hay valores que tienen un nivel más y especifican zonas dentro de Mar del Plata.\n",
    "Se asume que esto se repite para todas las localidades y se crea una nueva columna llamada place que va a contener place_with_parent_names pero recortado hasta el tercer nivel.\n",
    "\n",
    "Por ejemplo todas las entradas que son de Mar del Plata van a decir lo siguiente: |Argentina|Buenos Aires Costa Atlántica|Mar del Plata|\n",
    "\n",
    "Los valores que no tengan un tercer nivel quedarán como nulos"
   ]
  },
  {
   "cell_type": "code",
   "execution_count": 90,
   "id": "3ef540ef",
   "metadata": {},
   "outputs": [],
   "source": [
    "def create_place(s):\n",
    "    string_split = s.split('|')\n",
    "    if len(string_split) >= 5:\n",
    "        result = '|'.join(string_split[1:4])\n",
    "        return result\n",
    "    else:\n",
    "        return np.NaN\n",
    "    \n",
    "df_price_surface_tidy['place'] = df_price_surface_tidy['place_with_parent_names'].apply(create_place)"
   ]
  },
  {
   "cell_type": "code",
   "execution_count": 91,
   "id": "ecbf8a5a",
   "metadata": {},
   "outputs": [
    {
     "name": "stdout",
     "output_type": "stream",
     "text": [
      "2767 places nulos de 84795\n"
     ]
    }
   ],
   "source": [
    "print('{} places nulos de {}'.format(df_price_surface_tidy['place'].isnull().sum(),df_price_surface_tidy.shape[0]))"
   ]
  },
  {
   "cell_type": "markdown",
   "id": "140bceaa",
   "metadata": {},
   "source": [
    "Se eliminan los valores nulos de place"
   ]
  },
  {
   "cell_type": "code",
   "execution_count": 92,
   "id": "6ede2437",
   "metadata": {},
   "outputs": [],
   "source": [
    "mask_place_notnull = df_price_surface_tidy['place'].notnull()\n",
    "df_price_surface_place_tidy = df_price_surface_tidy[mask_place_notnull].copy()"
   ]
  },
  {
   "cell_type": "markdown",
   "id": "e4eefa9e",
   "metadata": {},
   "source": [
    "<a id=\"section_precio_m2_place\"></a> \n",
    "## Precio por metro cuadrado por zona\n",
    "\n",
    "[volver a TOC](#section_toc)"
   ]
  },
  {
   "cell_type": "markdown",
   "id": "6ef4c541",
   "metadata": {},
   "source": [
    "Como manera para considerar la valoración de la zona en el precio de las propiedades se calcula el precio por metro cuadrado para cada zona. Además se calcula la correlación entre precio y superficie para brindar un parametro que permita obtener las zonas donde esta relación es mejor."
   ]
  },
  {
   "cell_type": "markdown",
   "id": "32aa1368",
   "metadata": {},
   "source": [
    "**Paso 1: se dropean columnas de precio por metro cuadrado y se crean de nuevo para asegurarse que estén bien hechas**"
   ]
  },
  {
   "cell_type": "code",
   "execution_count": 93,
   "id": "c31aa3d2",
   "metadata": {},
   "outputs": [
    {
     "data": {
      "text/plain": [
       "property_type               object\n",
       "place_name                  object\n",
       "place_with_parent_names     object\n",
       "state_name                  object\n",
       "lat-lon                     object\n",
       "lat                        float64\n",
       "lon                        float64\n",
       "price_aprox_usd            float64\n",
       "surface_total_in_m2        float64\n",
       "surface_covered_in_m2      float64\n",
       "price_usd_per_m2           float64\n",
       "price_per_m2               float64\n",
       "floor                      float64\n",
       "rooms                      float64\n",
       "expenses                   float64\n",
       "description                 object\n",
       "title                       object\n",
       "place                       object\n",
       "dtype: object"
      ]
     },
     "execution_count": 93,
     "metadata": {},
     "output_type": "execute_result"
    }
   ],
   "source": [
    "df_price_surface_tidy.dtypes"
   ]
  },
  {
   "cell_type": "code",
   "execution_count": 94,
   "id": "c3528c62",
   "metadata": {},
   "outputs": [],
   "source": [
    "columns_to_drop = ['price_usd_per_m2', 'price_per_m2']\n",
    "df_price_surface_tidy.drop(columns = columns_to_drop, inplace=True)"
   ]
  },
  {
   "cell_type": "code",
   "execution_count": 95,
   "id": "6c9707c4",
   "metadata": {},
   "outputs": [
    {
     "data": {
      "text/plain": [
       "property_type               object\n",
       "place_name                  object\n",
       "place_with_parent_names     object\n",
       "state_name                  object\n",
       "lat-lon                     object\n",
       "lat                        float64\n",
       "lon                        float64\n",
       "price_aprox_usd            float64\n",
       "surface_total_in_m2        float64\n",
       "surface_covered_in_m2      float64\n",
       "floor                      float64\n",
       "rooms                      float64\n",
       "expenses                   float64\n",
       "description                 object\n",
       "title                       object\n",
       "place                       object\n",
       "dtype: object"
      ]
     },
     "execution_count": 95,
     "metadata": {},
     "output_type": "execute_result"
    }
   ],
   "source": [
    "df_price_surface_tidy.dtypes"
   ]
  },
  {
   "cell_type": "markdown",
   "id": "b672aec4",
   "metadata": {},
   "source": [
    "Se arma columna de precio por m2"
   ]
  },
  {
   "cell_type": "code",
   "execution_count": 96,
   "id": "5cfe1ba3",
   "metadata": {},
   "outputs": [],
   "source": [
    "df_price_surface_place_tidy['price_per_m2'] = df_price_surface_place_tidy['price_aprox_usd'] / df_price_surface_place_tidy['surface_covered_in_m2']"
   ]
  },
  {
   "cell_type": "markdown",
   "id": "e8bea601",
   "metadata": {},
   "source": [
    "**Paso 2: se agrupa por place y se calcula el valor promedio del precio por metro cuadrado para cada zona**"
   ]
  },
  {
   "cell_type": "markdown",
   "id": "fc2da7d4",
   "metadata": {},
   "source": [
    "Primero se considera una ciudad con cierta cantidad de propiedades, en este caso Pilar, y se ve cómo es la distribución del precio por m2"
   ]
  },
  {
   "cell_type": "code",
   "execution_count": 97,
   "id": "988563e4",
   "metadata": {},
   "outputs": [],
   "source": [
    "place = 'Argentina|Bs.As. G.B.A. Zona Norte|Pilar'\n",
    "mask_pilar = df_price_surface_place_tidy['place'] == place\n",
    "price_pilar = df_price_surface_place_tidy.loc[mask_pilar, 'price_aprox_usd']\n",
    "surface_pilar = df_price_surface_place_tidy.loc[mask_pilar, 'surface_covered_in_m2']\n",
    "price_per_m2_pilar = price_pilar / surface_pilar"
   ]
  },
  {
   "cell_type": "code",
   "execution_count": 98,
   "id": "8f8a6a7e",
   "metadata": {},
   "outputs": [
    {
     "data": {
      "image/png": "[encoded data removed]",
      "text/plain": [
       "<Figure size 432x432 with 3 Axes>"
      ]
     },
     "metadata": {
      "needs_background": "light"
     },
     "output_type": "display_data"
    }
   ],
   "source": [
    "ax = sns.jointplot(x=surface_pilar, y=price_pilar, kind=\"reg\")"
   ]
  },
  {
   "cell_type": "code",
   "execution_count": 99,
   "id": "b70a4774",
   "metadata": {},
   "outputs": [
    {
     "data": {
      "text/plain": [
       "Text(0.5, 1.0, 'Pilar')"
      ]
     },
     "execution_count": 99,
     "metadata": {},
     "output_type": "execute_result"
    },
    {
     "data": {
      "image/png": "[encoded data removed]",
      "text/plain": [
       "<Figure size 432x288 with 1 Axes>"
      ]
     },
     "metadata": {
      "needs_background": "light"
     },
     "output_type": "display_data"
    }
   ],
   "source": [
    "ax = sns.histplot(price_per_m2_pilar, binrange=[0,10000])\n",
    "ax.set_xlabel('precio por m2')\n",
    "ax.set_title('Pilar')"
   ]
  },
  {
   "cell_type": "code",
   "execution_count": 100,
   "id": "d1e05d00",
   "metadata": {},
   "outputs": [
    {
     "data": {
      "text/plain": [
       "1551.7241379310344"
      ]
     },
     "execution_count": 100,
     "metadata": {},
     "output_type": "execute_result"
    }
   ],
   "source": [
    "price_per_m2_pilar.median()"
   ]
  },
  {
   "cell_type": "code",
   "execution_count": 101,
   "id": "1b57303d",
   "metadata": {},
   "outputs": [
    {
     "data": {
      "text/plain": [
       "1902.2315866249332"
      ]
     },
     "execution_count": 101,
     "metadata": {},
     "output_type": "execute_result"
    }
   ],
   "source": [
    "price_per_m2_pilar.mean()"
   ]
  },
  {
   "cell_type": "markdown",
   "id": "7294627f",
   "metadata": {},
   "source": [
    "La distribución tiene asimetria positiva y por lo tanto median < mean.\n",
    "\n",
    "El valor más adecuado para calcular un valor medio seria el de la moda pero como es una variable continua se utiliza la mediana "
   ]
  },
  {
   "cell_type": "markdown",
   "id": "6e3a5f57",
   "metadata": {},
   "source": [
    "Se crea un dataseries que tenga como indice el lugar('place') y como valor el precio por metro cuadrado de ese lugar, usando la mediana para calcular este valor"
   ]
  },
  {
   "cell_type": "code",
   "execution_count": 102,
   "id": "1f517148",
   "metadata": {},
   "outputs": [
    {
     "data": {
      "text/plain": [
       "place\n",
       "Argentina|Bs.As. G.B.A. Zona Norte|Escobar                1403.893520\n",
       "Argentina|Bs.As. G.B.A. Zona Norte|General San Martín     1415.662651\n",
       "Argentina|Bs.As. G.B.A. Zona Norte|José C Paz              924.285714\n",
       "Argentina|Bs.As. G.B.A. Zona Norte|Malvinas Argentinas    1360.000000\n",
       "Argentina|Bs.As. G.B.A. Zona Norte|Pilar                  1551.724138\n",
       "                                                             ...     \n",
       "Argentina|Tierra Del Fuego|Río Grande                     1343.671354\n",
       "Argentina|Tierra Del Fuego|Ushuaia                        2000.000000\n",
       "Argentina|Tucumán|San Miguel de Tucumán                   1453.153134\n",
       "Argentina|Tucumán|Tafí del Valle                           486.058467\n",
       "Argentina|Tucumán|Yerba Buena                             1215.146292\n",
       "Name: price_per_m2, Length: 421, dtype: float64"
      ]
     },
     "execution_count": 102,
     "metadata": {},
     "output_type": "execute_result"
    }
   ],
   "source": [
    "df_tidy_groupby = df_price_surface_place_tidy.groupby('place')\n",
    "ds_place_price_per_m2 = df_tidy_groupby['price_per_m2'].median()\n",
    "ds_place_price_per_m2"
   ]
  },
  {
   "cell_type": "code",
   "execution_count": 103,
   "id": "75c18e8c",
   "metadata": {},
   "outputs": [
    {
     "data": {
      "text/plain": [
       "place\n",
       "Argentina|Bs.As. G.B.A. Zona Norte|Escobar                1403.893520\n",
       "Argentina|Bs.As. G.B.A. Zona Norte|General San Martín     1415.662651\n",
       "Argentina|Bs.As. G.B.A. Zona Norte|José C Paz              924.285714\n",
       "Argentina|Bs.As. G.B.A. Zona Norte|Malvinas Argentinas    1360.000000\n",
       "Argentina|Bs.As. G.B.A. Zona Norte|Pilar                  1551.724138\n",
       "Argentina|Bs.As. G.B.A. Zona Norte|San Fernando           2100.000000\n",
       "Argentina|Bs.As. G.B.A. Zona Norte|San Isidro             2200.000000\n",
       "Argentina|Bs.As. G.B.A. Zona Norte|San Miguel             1496.268657\n",
       "Argentina|Bs.As. G.B.A. Zona Norte|Tigre                  2214.285714\n",
       "Argentina|Bs.As. G.B.A. Zona Norte|Vicente López          2558.139535\n",
       "Name: price_per_m2, dtype: float64"
      ]
     },
     "execution_count": 103,
     "metadata": {},
     "output_type": "execute_result"
    }
   ],
   "source": [
    "ds_place_price_per_m2.head(10)"
   ]
  },
  {
   "cell_type": "markdown",
   "id": "0d100ae9",
   "metadata": {},
   "source": [
    "**Paso 3: se agrupa por place y se calcula la cantidad de propiedades**"
   ]
  },
  {
   "cell_type": "code",
   "execution_count": 104,
   "id": "8afaf864",
   "metadata": {},
   "outputs": [
    {
     "data": {
      "text/plain": [
       "place\n",
       "Argentina|Bs.As. G.B.A. Zona Norte|Escobar                1604\n",
       "Argentina|Bs.As. G.B.A. Zona Norte|General San Martín     1273\n",
       "Argentina|Bs.As. G.B.A. Zona Norte|José C Paz               78\n",
       "Argentina|Bs.As. G.B.A. Zona Norte|Malvinas Argentinas     385\n",
       "Argentina|Bs.As. G.B.A. Zona Norte|Pilar                  2761\n",
       "                                                          ... \n",
       "Argentina|Tierra Del Fuego|Río Grande                       15\n",
       "Argentina|Tierra Del Fuego|Ushuaia                           5\n",
       "Argentina|Tucumán|San Miguel de Tucumán                     71\n",
       "Argentina|Tucumán|Tafí del Valle                             3\n",
       "Argentina|Tucumán|Yerba Buena                               11\n",
       "Name: price_per_m2, Length: 421, dtype: int64"
      ]
     },
     "execution_count": 104,
     "metadata": {},
     "output_type": "execute_result"
    }
   ],
   "source": [
    "ds_place_count = df_tidy_groupby['price_per_m2'].count()\n",
    "ds_place_count"
   ]
  },
  {
   "cell_type": "markdown",
   "id": "8f672444",
   "metadata": {},
   "source": [
    "**Paso 4: Se agrupa por place y se calcula el valor de la correlacion entre el precio y la superficie**"
   ]
  },
  {
   "cell_type": "markdown",
   "id": "d369b4a9",
   "metadata": {},
   "source": [
    "Esta puede ser una medida de que tan bueno es el cálculo del precio por metro cuadrado para cada place"
   ]
  },
  {
   "cell_type": "code",
   "execution_count": 105,
   "id": "3fc71245",
   "metadata": {},
   "outputs": [
    {
     "name": "stderr",
     "output_type": "stream",
     "text": [
      "D:\\anaconda3\\envs\\dhdsblend2021\\lib\\site-packages\\numpy\\lib\\function_base.py:2551: RuntimeWarning: Degrees of freedom <= 0 for slice\n",
      "  c = cov(x, y, rowvar)\n",
      "D:\\anaconda3\\envs\\dhdsblend2021\\lib\\site-packages\\numpy\\lib\\function_base.py:2480: RuntimeWarning: divide by zero encountered in true_divide\n",
      "  c *= np.true_divide(1, fact)\n",
      "D:\\anaconda3\\envs\\dhdsblend2021\\lib\\site-packages\\numpy\\lib\\function_base.py:2480: RuntimeWarning: invalid value encountered in multiply\n",
      "  c *= np.true_divide(1, fact)\n",
      "D:\\anaconda3\\envs\\dhdsblend2021\\lib\\site-packages\\numpy\\lib\\function_base.py:2559: RuntimeWarning: invalid value encountered in true_divide\n",
      "  c /= stddev[:, None]\n",
      "D:\\anaconda3\\envs\\dhdsblend2021\\lib\\site-packages\\numpy\\lib\\function_base.py:2560: RuntimeWarning: invalid value encountered in true_divide\n",
      "  c /= stddev[None, :]\n"
     ]
    }
   ],
   "source": [
    "places = list(ds_place_count.index)\n",
    "corrs = []\n",
    "for place in places:\n",
    "    mask_place = df_price_surface_place_tidy['place'] == place\n",
    "    price = df_price_surface_place_tidy.loc[mask_place,'price_aprox_usd']\n",
    "    surface = df_price_surface_place_tidy.loc[mask_place,'surface_covered_in_m2']\n",
    "    correlacion = np.corrcoef(price, surface)[0,1]\n",
    "    corrs.append(correlacion)"
   ]
  },
  {
   "cell_type": "code",
   "execution_count": 106,
   "id": "c16dd462",
   "metadata": {},
   "outputs": [
    {
     "data": {
      "text/plain": [
       "Argentina|Bs.As. G.B.A. Zona Norte|Escobar                0.715120\n",
       "Argentina|Bs.As. G.B.A. Zona Norte|General San Martín     0.683359\n",
       "Argentina|Bs.As. G.B.A. Zona Norte|José C Paz             0.343358\n",
       "Argentina|Bs.As. G.B.A. Zona Norte|Malvinas Argentinas    0.848762\n",
       "Argentina|Bs.As. G.B.A. Zona Norte|Pilar                  0.828547\n",
       "Argentina|Bs.As. G.B.A. Zona Norte|San Fernando           0.783057\n",
       "Argentina|Bs.As. G.B.A. Zona Norte|San Isidro             0.801725\n",
       "Argentina|Bs.As. G.B.A. Zona Norte|San Miguel             0.784846\n",
       "Argentina|Bs.As. G.B.A. Zona Norte|Tigre                  0.828267\n",
       "Argentina|Bs.As. G.B.A. Zona Norte|Vicente López          0.723460\n",
       "dtype: float64"
      ]
     },
     "execution_count": 106,
     "metadata": {},
     "output_type": "execute_result"
    }
   ],
   "source": [
    "ds_place_corr = pd.Series(corrs, index=places)\n",
    "ds_place_corr.head(10)"
   ]
  },
  {
   "cell_type": "markdown",
   "id": "7ff1ed1c",
   "metadata": {},
   "source": [
    "Grafico correlacion entre precio y superfice vs cant de propiedades"
   ]
  },
  {
   "cell_type": "code",
   "execution_count": 107,
   "id": "feb83011",
   "metadata": {},
   "outputs": [
    {
     "data": {
      "text/plain": [
       "<matplotlib.legend.Legend at 0x27d35fd6e80>"
      ]
     },
     "execution_count": 107,
     "metadata": {},
     "output_type": "execute_result"
    },
    {
     "data": {
      "image/png": "[encoded data removed]",
      "text/plain": [
       "<Figure size 432x288 with 1 Axes>"
      ]
     },
     "metadata": {
      "needs_background": "light"
     },
     "output_type": "display_data"
    }
   ],
   "source": [
    "places = list(ds_place_count.index)\n",
    "ax = sns.scatterplot(x = ds_place_count[places], y = ds_place_corr[places], label='place')\n",
    "ax.set_ylabel('cant de propiedades')\n",
    "ax.set_xlabel('correlacion entre precio y superficie')\n",
    "ax.legend(loc='lower right')"
   ]
  },
  {
   "cell_type": "markdown",
   "id": "50b9c426",
   "metadata": {},
   "source": [
    "**Paso 5: Se obtienen las ciudades con precios por metro cuadrado más representativos**"
   ]
  },
  {
   "cell_type": "markdown",
   "id": "4af2498e",
   "metadata": {},
   "source": [
    "Se obtienen las ciudades que tiene una correlación entre precio y superficie mayor a 0.75."
   ]
  },
  {
   "cell_type": "code",
   "execution_count": 108,
   "id": "e6fd3944",
   "metadata": {},
   "outputs": [],
   "source": [
    "mask = ds_place_corr > 0.75\n",
    "places_well_corr = ds_place_corr[mask].index"
   ]
  },
  {
   "cell_type": "code",
   "execution_count": 109,
   "id": "9d6814bc",
   "metadata": {},
   "outputs": [
    {
     "data": {
      "text/plain": [
       "0.4180522565320665"
      ]
     },
     "execution_count": 109,
     "metadata": {},
     "output_type": "execute_result"
    }
   ],
   "source": [
    "# Proporción de places correlacionadas con respecto a la cantidad total de places\n",
    "places_well_corr.shape[0] / ds_place_corr.shape[0]"
   ]
  },
  {
   "cell_type": "code",
   "execution_count": 110,
   "id": "8344b33e",
   "metadata": {},
   "outputs": [
    {
     "data": {
      "text/plain": [
       "0.5621982737601795"
      ]
     },
     "execution_count": 110,
     "metadata": {},
     "output_type": "execute_result"
    }
   ],
   "source": [
    "# proporción de propiedades correlacionadas con respecto a la cantidad total de places\n",
    "ds_place_count[places_well_corr].sum() / ds_place_count.sum()"
   ]
  },
  {
   "cell_type": "markdown",
   "id": "656b9d70",
   "metadata": {},
   "source": [
    "**Gráfico para mostrar resultados**"
   ]
  },
  {
   "cell_type": "markdown",
   "id": "f39d2cd2",
   "metadata": {},
   "source": [
    "Se genera grafico precio vs superficie * precio por m2 de la zona, para todas las propiedades del dataset.\n",
    "\n",
    "Se considera solo los departamentos"
   ]
  },
  {
   "cell_type": "code",
   "execution_count": 111,
   "id": "6a27970a",
   "metadata": {},
   "outputs": [],
   "source": [
    "mask_places = df_price_surface_place_tidy['place'].apply(lambda x: True if x in list(places_well_corr) else False)\n",
    "mask_apartments = df_price_surface_place_tidy['property_type'] == 'apartment'\n",
    "mask_places_apartment = np.logical_and(mask_places, mask_apartments)\n",
    "df_places_well_corr = df_price_surface_place_tidy[mask_places_apartment]\n",
    "price = df_places_well_corr['price_aprox_usd']\n",
    "price_est = df_places_well_corr.apply(lambda x: x['surface_covered_in_m2'] * ds_place_price_per_m2[x['place']], axis = 1 )"
   ]
  },
  {
   "cell_type": "markdown",
   "id": "093a78a7",
   "metadata": {},
   "source": [
    "Correlacion precio vs superficie * precio por m2 de la zona, para departamentos"
   ]
  },
  {
   "cell_type": "code",
   "execution_count": 112,
   "id": "d4195b54",
   "metadata": {},
   "outputs": [
    {
     "data": {
      "text/plain": [
       "array([[1.        , 0.84934716],\n",
       "       [0.84934716, 1.        ]])"
      ]
     },
     "execution_count": 112,
     "metadata": {},
     "output_type": "execute_result"
    }
   ],
   "source": [
    "np.corrcoef(price, price_est)"
   ]
  },
  {
   "cell_type": "code",
   "execution_count": 113,
   "id": "d5ff9780",
   "metadata": {},
   "outputs": [
    {
     "data": {
      "text/plain": [
       "<matplotlib.legend.Legend at 0x27d3962c550>"
      ]
     },
     "execution_count": 113,
     "metadata": {},
     "output_type": "execute_result"
    },
    {
     "data": {
      "image/png": "[encoded data removed]",
      "text/plain": [
       "<Figure size 640x480 with 1 Axes>"
      ]
     },
     "metadata": {
      "needs_background": "light"
     },
     "output_type": "display_data"
    }
   ],
   "source": [
    "#Recorto precios a maximo 40k para poder ver el grafico sin tener que ajustar los ejes.\n",
    "#Ya que se pierde resolucion en el grafico si tengo que hacer zoom\n",
    "mask_price_below_40k = price < 400000\n",
    "mask_price_est_below_40k = price_est < 400000\n",
    "mask_prices_below_40k = np.logical_and(mask_price_below_40k, mask_price_est_below_40k)\n",
    "price_redux = price[mask_prices_below_40k]\n",
    "price_est_redux = price_est[mask_prices_below_40k]\n",
    "\n",
    "x = price_redux\n",
    "y = price_est_redux\n",
    "plt.figure(figsize=(8, 6), dpi=80)\n",
    "ax = plt.axes()\n",
    "sns.scatterplot(x=x, y=y, s=5, color=\".15\", ax=ax, label='apartments')\n",
    "sns.histplot(x=x, y=y, bins=50, pthresh=.1, cmap='rocket', ax=ax)\n",
    "ax.set_xlabel('real price')\n",
    "ax.set_ylabel('surface * price_per_m2_per_place')\n",
    "ax.legend()"
   ]
  },
  {
   "cell_type": "markdown",
   "id": "866e336b",
   "metadata": {},
   "source": [
    "Se repite gráfico considerando sólo casas"
   ]
  },
  {
   "cell_type": "code",
   "execution_count": 114,
   "id": "3ff4fa66",
   "metadata": {},
   "outputs": [],
   "source": [
    "mask_places = df_price_surface_place_tidy['place'].apply(lambda x: True if x in list(places_well_corr) else False)\n",
    "mask_apartments = df_price_surface_place_tidy['property_type'] == 'house'\n",
    "mask_places_apartment = np.logical_and(mask_places, mask_apartments)\n",
    "df_places_well_corr = df_price_surface_place_tidy[mask_places_apartment]\n",
    "price = df_places_well_corr['price_aprox_usd']\n",
    "price_est = df_places_well_corr.apply(lambda x: x['surface_covered_in_m2'] * ds_place_price_per_m2[x['place']], axis = 1 )"
   ]
  },
  {
   "cell_type": "code",
   "execution_count": 115,
   "id": "e1bc7057",
   "metadata": {},
   "outputs": [
    {
     "data": {
      "text/plain": [
       "array([[1.        , 0.80836649],\n",
       "       [0.80836649, 1.        ]])"
      ]
     },
     "execution_count": 115,
     "metadata": {},
     "output_type": "execute_result"
    }
   ],
   "source": [
    "np.corrcoef(price, price_est)"
   ]
  },
  {
   "cell_type": "code",
   "execution_count": 116,
   "id": "293c5ef3",
   "metadata": {},
   "outputs": [
    {
     "data": {
      "text/plain": [
       "<matplotlib.legend.Legend at 0x27d2e1c3cd0>"
      ]
     },
     "execution_count": 116,
     "metadata": {},
     "output_type": "execute_result"
    },
    {
     "data": {
      "image/png": "[encoded data removed]",
      "text/plain": [
       "<Figure size 640x480 with 1 Axes>"
      ]
     },
     "metadata": {
      "needs_background": "light"
     },
     "output_type": "display_data"
    }
   ],
   "source": [
    "#Recorto precios a maximo 80k para poder ver el grafico sin tener que ajustar los ejes.\n",
    "#Ya que se pierde resolucion en el grafico si tengo que hacer zoom\n",
    "mask_price_below_80k = price < 800000\n",
    "mask_price_est_below_80k = price_est < 800000\n",
    "mask_prices_below_80k = np.logical_and(mask_price_below_80k, mask_price_est_below_80k)\n",
    "price_redux = price[mask_prices_below_80k]\n",
    "price_est_redux = price_est[mask_prices_below_80k]\n",
    "\n",
    "x = price_redux\n",
    "y = price_est_redux\n",
    "plt.figure(figsize=(8, 6), dpi=80)\n",
    "ax = plt.axes()\n",
    "sns.scatterplot(x=x, y=y, s=5, color=\".15\", ax=ax, label='houses')\n",
    "sns.histplot(x=x, y=y, bins=50, pthresh=.1, cmap='rocket', ax=ax)\n",
    "ax.set_xlabel('real price')\n",
    "ax.set_ylabel('surface * price_per_m2_per_place')\n",
    "ax.legend()\n",
    "#sns.histplot(x=x, y=y, bins=50, pthresh=.1, cmap=\"mako\")\n",
    "#sns.kdeplot(x=x, y=y, levels=5, color=\"w\", linewidths=1)"
   ]
  },
  {
   "cell_type": "markdown",
   "id": "c8ac6508",
   "metadata": {},
   "source": [
    "<a id=\"section_surfaces_analysis\"></a> \n",
    "## Superficie total, superficie cubierta o una combinación de ambas?\n",
    "\n",
    "[volver a TOC](#section_toc)"
   ]
  },
  {
   "cell_type": "markdown",
   "id": "40055844",
   "metadata": {},
   "source": [
    "En todo lo que se hizo anteriormente se consideró la superficie. Ahora que se tiene un dataset más limpio se vuelve sobre lo anterior y se evalua qué superficie conviene utilizar"
   ]
  },
  {
   "cell_type": "markdown",
   "id": "d246ec7a",
   "metadata": {},
   "source": [
    "Primero se quitan outliers de la superficie total, que no se había realizado. El cálculo de outliers se hace sobre el dataframe original, al igual que se hizo sobre la superficie cubierta."
   ]
  },
  {
   "cell_type": "code",
   "execution_count": 117,
   "id": "7e52affd",
   "metadata": {},
   "outputs": [],
   "source": [
    "x=np.linspace(0,1000,500)\n",
    "mask_surface_total_not_nulls = df['surface_total_in_m2'].notnull()\n",
    "surface_total_not_nulls = df.loc[mask_surface_total_not_nulls, 'surface_total_in_m2']\n",
    "(s_fit, loc_fit, scale_fit) = stats.lognorm.fit(surface_covered_not_nulls)\n",
    "lognormal_fitted = stats.lognorm.pdf(x, s_fit, loc=loc_fit, scale=scale_fit)"
   ]
  },
  {
   "cell_type": "code",
   "execution_count": 118,
   "id": "0559729c",
   "metadata": {},
   "outputs": [
    {
     "data": {
      "text/plain": [
       "[<matplotlib.lines.Line2D at 0x27d31e4c850>]"
      ]
     },
     "execution_count": 118,
     "metadata": {},
     "output_type": "execute_result"
    },
    {
     "data": {
      "image/png": "[encoded data removed]",
      "text/plain": [
       "<Figure size 432x288 with 1 Axes>"
      ]
     },
     "metadata": {
      "needs_background": "light"
     },
     "output_type": "display_data"
    }
   ],
   "source": [
    "sns.histplot(surface_total_not_nulls, binrange =(0,1000),stat='density')\n",
    "plt.plot(x,lognormal_fitted,'r-')"
   ]
  },
  {
   "cell_type": "code",
   "execution_count": 119,
   "id": "dc15b76f",
   "metadata": {},
   "outputs": [
    {
     "name": "stdout",
     "output_type": "stream",
     "text": [
      "Umbral inferior: 11.0 m2\n",
      "Umbral superior: 570.7 m2\n",
      "Cantidad de datos que clasifico como outliers: 7.2%\n"
     ]
    }
   ],
   "source": [
    "surface_total_lognorm_low = stats.lognorm.ppf(0.01, s_fit, loc=loc_fit, scale=scale_fit)\n",
    "surface_total_lognorm_high = stats.lognorm.ppf(0.99, s_fit, loc=loc_fit, scale=scale_fit)\n",
    "\n",
    "aux_low = surface_total_not_nulls < surface_total_lognorm_low\n",
    "aux_high = surface_total_not_nulls > surface_total_lognorm_high\n",
    "surface_total_outliers_porc = (aux_low.sum() + aux_high.sum()) / len(surface_total_not_nulls)\n",
    "\n",
    "print('Umbral inferior: {:.4} m2'.format(surface_total_lognorm_low))\n",
    "print('Umbral superior: {:.4} m2'.format(surface_total_lognorm_high))\n",
    "print(\"Cantidad de datos que clasifico como outliers: {:.2}%\".format(surface_total_outliers_porc * 100) )"
   ]
  },
  {
   "cell_type": "code",
   "execution_count": 120,
   "id": "523f0f51",
   "metadata": {},
   "outputs": [],
   "source": [
    "mask_high = df_price_surface_place_tidy['surface_total_in_m2'] < 570.7\n",
    "mask_low = df_price_surface_place_tidy['surface_total_in_m2'] > 11.0\n",
    "mask_not_outliers = np.logical_and(mask_high, mask_low)\n",
    "\n",
    "df_surfaces_tidy = df_price_surface_place_tidy[mask_not_outliers].copy()"
   ]
  },
  {
   "cell_type": "markdown",
   "id": "b4f8cbc2",
   "metadata": {},
   "source": [
    "Una vez que se tiene un dataset con ambas columnas de superficie limpias, se realiza un primer análisis considerando solo las casas debido a que este es el tipo de propiedad donde se espera que la superficie total tenga mayor relevancia."
   ]
  },
  {
   "cell_type": "code",
   "execution_count": 121,
   "id": "08e14c3c",
   "metadata": {},
   "outputs": [],
   "source": [
    "mask_house = df_surfaces_tidy['property_type'] == 'house'\n",
    "df_house = df_surfaces_tidy[mask_house].copy()"
   ]
  },
  {
   "cell_type": "markdown",
   "id": "338c31d8",
   "metadata": {},
   "source": [
    "Se considera una superficie media que se obtiene de hacer el promedio entre las dos columnas de superficie."
   ]
  },
  {
   "cell_type": "code",
   "execution_count": 122,
   "id": "18dacc46",
   "metadata": {},
   "outputs": [],
   "source": [
    "df_house['surface_mean'] = (df_house['surface_covered_in_m2'] + df_house['surface_total_in_m2']) / 2"
   ]
  },
  {
   "cell_type": "code",
   "execution_count": 123,
   "id": "68db2696",
   "metadata": {},
   "outputs": [
    {
     "data": {
      "text/html": [
       "<div>\n",
       "<style scoped>\n",
       "    .dataframe tbody tr th:only-of-type {\n",
       "        vertical-align: middle;\n",
       "    }\n",
       "\n",
       "    .dataframe tbody tr th {\n",
       "        vertical-align: top;\n",
       "    }\n",
       "\n",
       "    .dataframe thead th {\n",
       "        text-align: right;\n",
       "    }\n",
       "</style>\n",
       "<table border=\"1\" class=\"dataframe\">\n",
       "  <thead>\n",
       "    <tr style=\"text-align: right;\">\n",
       "      <th></th>\n",
       "      <th>surface_total_in_m2</th>\n",
       "      <th>surface_covered_in_m2</th>\n",
       "      <th>price_aprox_usd</th>\n",
       "      <th>surface_mean</th>\n",
       "    </tr>\n",
       "  </thead>\n",
       "  <tbody>\n",
       "    <tr>\n",
       "      <th>surface_total_in_m2</th>\n",
       "      <td>1.000000</td>\n",
       "      <td>0.612436</td>\n",
       "      <td>0.435802</td>\n",
       "      <td>0.920645</td>\n",
       "    </tr>\n",
       "    <tr>\n",
       "      <th>surface_covered_in_m2</th>\n",
       "      <td>0.612436</td>\n",
       "      <td>1.000000</td>\n",
       "      <td>0.736751</td>\n",
       "      <td>0.872456</td>\n",
       "    </tr>\n",
       "    <tr>\n",
       "      <th>price_aprox_usd</th>\n",
       "      <td>0.435802</td>\n",
       "      <td>0.736751</td>\n",
       "      <td>1.000000</td>\n",
       "      <td>0.633256</td>\n",
       "    </tr>\n",
       "    <tr>\n",
       "      <th>surface_mean</th>\n",
       "      <td>0.920645</td>\n",
       "      <td>0.872456</td>\n",
       "      <td>0.633256</td>\n",
       "      <td>1.000000</td>\n",
       "    </tr>\n",
       "  </tbody>\n",
       "</table>\n",
       "</div>"
      ],
      "text/plain": [
       "                       surface_total_in_m2  surface_covered_in_m2  \\\n",
       "surface_total_in_m2               1.000000               0.612436   \n",
       "surface_covered_in_m2             0.612436               1.000000   \n",
       "price_aprox_usd                   0.435802               0.736751   \n",
       "surface_mean                      0.920645               0.872456   \n",
       "\n",
       "                       price_aprox_usd  surface_mean  \n",
       "surface_total_in_m2           0.435802      0.920645  \n",
       "surface_covered_in_m2         0.736751      0.872456  \n",
       "price_aprox_usd               1.000000      0.633256  \n",
       "surface_mean                  0.633256      1.000000  "
      ]
     },
     "execution_count": 123,
     "metadata": {},
     "output_type": "execute_result"
    }
   ],
   "source": [
    "df_house[['surface_total_in_m2', 'surface_covered_in_m2', 'price_aprox_usd', 'surface_mean']].corr()"
   ]
  },
  {
   "cell_type": "markdown",
   "id": "ed2fc6f9",
   "metadata": {},
   "source": [
    "La correlacion entre la columna price_aprox_usd y las columnas de superficie arroja un mejor resultado para la superficie cubierta.\n",
    "Se continua con el analisis agrupando por localidades"
   ]
  },
  {
   "cell_type": "code",
   "execution_count": 124,
   "id": "900c3c0a",
   "metadata": {},
   "outputs": [
    {
     "data": {
      "text/plain": [
       "place\n",
       "Argentina|Bs.As. G.B.A. Zona Norte|Escobar                 744\n",
       "Argentina|Bs.As. G.B.A. Zona Norte|General San Martín      306\n",
       "Argentina|Bs.As. G.B.A. Zona Norte|José C Paz               42\n",
       "Argentina|Bs.As. G.B.A. Zona Norte|Malvinas Argentinas     151\n",
       "Argentina|Bs.As. G.B.A. Zona Norte|Pilar                  1136\n",
       "Name: price_per_m2, dtype: int64"
      ]
     },
     "execution_count": 124,
     "metadata": {},
     "output_type": "execute_result"
    }
   ],
   "source": [
    "df_house_groupby = df_house.groupby('place')\n",
    "ds_house_place_count = df_house_groupby['price_per_m2'].count()\n",
    "ds_house_place_count.head()"
   ]
  },
  {
   "cell_type": "code",
   "execution_count": 125,
   "id": "fcf6999e",
   "metadata": {},
   "outputs": [],
   "source": [
    "# Creo dataframe donde ir guardando los resultados obtenidos\n",
    "df_house_place  = ds_house_place_count.to_frame(name='count')"
   ]
  },
  {
   "cell_type": "code",
   "execution_count": 126,
   "id": "69ab54e9",
   "metadata": {},
   "outputs": [
    {
     "name": "stderr",
     "output_type": "stream",
     "text": [
      "D:\\anaconda3\\envs\\dhdsblend2021\\lib\\site-packages\\numpy\\lib\\function_base.py:2559: RuntimeWarning: invalid value encountered in true_divide\n",
      "  c /= stddev[:, None]\n",
      "D:\\anaconda3\\envs\\dhdsblend2021\\lib\\site-packages\\numpy\\lib\\function_base.py:2560: RuntimeWarning: invalid value encountered in true_divide\n",
      "  c /= stddev[None, :]\n",
      "D:\\anaconda3\\envs\\dhdsblend2021\\lib\\site-packages\\numpy\\lib\\function_base.py:2551: RuntimeWarning: Degrees of freedom <= 0 for slice\n",
      "  c = cov(x, y, rowvar)\n",
      "D:\\anaconda3\\envs\\dhdsblend2021\\lib\\site-packages\\numpy\\lib\\function_base.py:2480: RuntimeWarning: divide by zero encountered in true_divide\n",
      "  c *= np.true_divide(1, fact)\n",
      "D:\\anaconda3\\envs\\dhdsblend2021\\lib\\site-packages\\numpy\\lib\\function_base.py:2480: RuntimeWarning: invalid value encountered in multiply\n",
      "  c *= np.true_divide(1, fact)\n"
     ]
    }
   ],
   "source": [
    "# Se obtiene correlación entre price_aprox_usd y surface_covered\n",
    "places = list(ds_house_place_count.index)\n",
    "corrs_covered = []\n",
    "corrs_total = []\n",
    "corrs_mean = []\n",
    "for place in places:\n",
    "    mask_place = df_house['place'] == place\n",
    "    price = df_house.loc[mask_place,'price_aprox_usd']\n",
    "    surface_covered = df_house.loc[mask_place,'surface_covered_in_m2']\n",
    "    correlacion_covered = np.corrcoef(price, surface_covered)[0,1]\n",
    "    corrs_covered.append(correlacion_covered)\n",
    "    \n",
    "    surface_total = df_house.loc[mask_place,'surface_total_in_m2']\n",
    "    correlacion_total = np.corrcoef(price, surface_total)[0,1]\n",
    "    corrs_total.append(correlacion_total)\n",
    "    \n",
    "    surface_mean = df_house.loc[mask_place,'surface_mean']\n",
    "    correlacion_mean = np.corrcoef(price, surface_mean)[0,1]\n",
    "    corrs_mean.append(correlacion_mean)\n",
    "    \n",
    "ds_covered_place_corr = pd.Series(corrs_covered, index=places)\n",
    "ds_total_place_corr = pd.Series(corrs_total, index=places)\n",
    "ds_mean_place_corr = pd.Series(corrs_mean, index=places)\n",
    "# se guardan valores en dataframe\n",
    "df_house_place['price_covered_corr'] = ds_covered_place_corr\n",
    "df_house_place['price_total_corr'] = ds_total_place_corr\n",
    "df_house_place['price_mean_corr'] = ds_mean_place_corr\n"
   ]
  },
  {
   "cell_type": "code",
   "execution_count": 127,
   "id": "c5d4668f",
   "metadata": {},
   "outputs": [
    {
     "data": {
      "text/html": [
       "<div>\n",
       "<style scoped>\n",
       "    .dataframe tbody tr th:only-of-type {\n",
       "        vertical-align: middle;\n",
       "    }\n",
       "\n",
       "    .dataframe tbody tr th {\n",
       "        vertical-align: top;\n",
       "    }\n",
       "\n",
       "    .dataframe thead th {\n",
       "        text-align: right;\n",
       "    }\n",
       "</style>\n",
       "<table border=\"1\" class=\"dataframe\">\n",
       "  <thead>\n",
       "    <tr style=\"text-align: right;\">\n",
       "      <th></th>\n",
       "      <th>count</th>\n",
       "      <th>price_covered_corr</th>\n",
       "      <th>price_total_corr</th>\n",
       "      <th>price_mean_corr</th>\n",
       "    </tr>\n",
       "    <tr>\n",
       "      <th>place</th>\n",
       "      <th></th>\n",
       "      <th></th>\n",
       "      <th></th>\n",
       "      <th></th>\n",
       "    </tr>\n",
       "  </thead>\n",
       "  <tbody>\n",
       "    <tr>\n",
       "      <th>Argentina|Bs.As. G.B.A. Zona Norte|Escobar</th>\n",
       "      <td>744</td>\n",
       "      <td>0.720005</td>\n",
       "      <td>0.544955</td>\n",
       "      <td>0.681198</td>\n",
       "    </tr>\n",
       "    <tr>\n",
       "      <th>Argentina|Bs.As. G.B.A. Zona Norte|General San Martín</th>\n",
       "      <td>306</td>\n",
       "      <td>0.650960</td>\n",
       "      <td>0.418481</td>\n",
       "      <td>0.568590</td>\n",
       "    </tr>\n",
       "    <tr>\n",
       "      <th>Argentina|Bs.As. G.B.A. Zona Norte|José C Paz</th>\n",
       "      <td>42</td>\n",
       "      <td>0.579454</td>\n",
       "      <td>0.318926</td>\n",
       "      <td>0.494664</td>\n",
       "    </tr>\n",
       "    <tr>\n",
       "      <th>Argentina|Bs.As. G.B.A. Zona Norte|Malvinas Argentinas</th>\n",
       "      <td>151</td>\n",
       "      <td>0.865178</td>\n",
       "      <td>0.695175</td>\n",
       "      <td>0.825312</td>\n",
       "    </tr>\n",
       "    <tr>\n",
       "      <th>Argentina|Bs.As. G.B.A. Zona Norte|Pilar</th>\n",
       "      <td>1136</td>\n",
       "      <td>0.816688</td>\n",
       "      <td>0.659126</td>\n",
       "      <td>0.774796</td>\n",
       "    </tr>\n",
       "  </tbody>\n",
       "</table>\n",
       "</div>"
      ],
      "text/plain": [
       "                                                    count  price_covered_corr  \\\n",
       "place                                                                           \n",
       "Argentina|Bs.As. G.B.A. Zona Norte|Escobar            744            0.720005   \n",
       "Argentina|Bs.As. G.B.A. Zona Norte|General San ...    306            0.650960   \n",
       "Argentina|Bs.As. G.B.A. Zona Norte|José C Paz          42            0.579454   \n",
       "Argentina|Bs.As. G.B.A. Zona Norte|Malvinas Arg...    151            0.865178   \n",
       "Argentina|Bs.As. G.B.A. Zona Norte|Pilar             1136            0.816688   \n",
       "\n",
       "                                                    price_total_corr  \\\n",
       "place                                                                  \n",
       "Argentina|Bs.As. G.B.A. Zona Norte|Escobar                  0.544955   \n",
       "Argentina|Bs.As. G.B.A. Zona Norte|General San ...          0.418481   \n",
       "Argentina|Bs.As. G.B.A. Zona Norte|José C Paz               0.318926   \n",
       "Argentina|Bs.As. G.B.A. Zona Norte|Malvinas Arg...          0.695175   \n",
       "Argentina|Bs.As. G.B.A. Zona Norte|Pilar                    0.659126   \n",
       "\n",
       "                                                    price_mean_corr  \n",
       "place                                                                \n",
       "Argentina|Bs.As. G.B.A. Zona Norte|Escobar                 0.681198  \n",
       "Argentina|Bs.As. G.B.A. Zona Norte|General San ...         0.568590  \n",
       "Argentina|Bs.As. G.B.A. Zona Norte|José C Paz              0.494664  \n",
       "Argentina|Bs.As. G.B.A. Zona Norte|Malvinas Arg...         0.825312  \n",
       "Argentina|Bs.As. G.B.A. Zona Norte|Pilar                   0.774796  "
      ]
     },
     "execution_count": 127,
     "metadata": {},
     "output_type": "execute_result"
    }
   ],
   "source": [
    "df_house_place.head()"
   ]
  },
  {
   "cell_type": "markdown",
   "id": "1b64dde5",
   "metadata": {},
   "source": [
    "Se muestran los resultados para las localidades con más propiedades"
   ]
  },
  {
   "cell_type": "code",
   "execution_count": 128,
   "id": "73f6ce8c",
   "metadata": {},
   "outputs": [
    {
     "data": {
      "text/html": [
       "<div>\n",
       "<style scoped>\n",
       "    .dataframe tbody tr th:only-of-type {\n",
       "        vertical-align: middle;\n",
       "    }\n",
       "\n",
       "    .dataframe tbody tr th {\n",
       "        vertical-align: top;\n",
       "    }\n",
       "\n",
       "    .dataframe thead th {\n",
       "        text-align: right;\n",
       "    }\n",
       "</style>\n",
       "<table border=\"1\" class=\"dataframe\">\n",
       "  <thead>\n",
       "    <tr style=\"text-align: right;\">\n",
       "      <th></th>\n",
       "      <th>count</th>\n",
       "      <th>price_covered_corr</th>\n",
       "      <th>price_total_corr</th>\n",
       "      <th>price_mean_corr</th>\n",
       "    </tr>\n",
       "    <tr>\n",
       "      <th>place</th>\n",
       "      <th></th>\n",
       "      <th></th>\n",
       "      <th></th>\n",
       "      <th></th>\n",
       "    </tr>\n",
       "  </thead>\n",
       "  <tbody>\n",
       "    <tr>\n",
       "      <th>Argentina|Bs.As. G.B.A. Zona Norte|Tigre</th>\n",
       "      <td>2268</td>\n",
       "      <td>0.769483</td>\n",
       "      <td>0.541330</td>\n",
       "      <td>0.700964</td>\n",
       "    </tr>\n",
       "    <tr>\n",
       "      <th>Argentina|Bs.As. G.B.A. Zona Norte|Pilar</th>\n",
       "      <td>1136</td>\n",
       "      <td>0.816688</td>\n",
       "      <td>0.659126</td>\n",
       "      <td>0.774796</td>\n",
       "    </tr>\n",
       "    <tr>\n",
       "      <th>Argentina|Bs.As. G.B.A. Zona Norte|Escobar</th>\n",
       "      <td>744</td>\n",
       "      <td>0.720005</td>\n",
       "      <td>0.544955</td>\n",
       "      <td>0.681198</td>\n",
       "    </tr>\n",
       "    <tr>\n",
       "      <th>Argentina|Buenos Aires Costa Atlántica|Mar del Plata</th>\n",
       "      <td>736</td>\n",
       "      <td>0.728583</td>\n",
       "      <td>0.238876</td>\n",
       "      <td>0.554036</td>\n",
       "    </tr>\n",
       "    <tr>\n",
       "      <th>Argentina|Bs.As. G.B.A. Zona Norte|San Isidro</th>\n",
       "      <td>714</td>\n",
       "      <td>0.810690</td>\n",
       "      <td>0.652045</td>\n",
       "      <td>0.782788</td>\n",
       "    </tr>\n",
       "    <tr>\n",
       "      <th>Argentina|Bs.As. G.B.A. Zona Norte|Vicente López</th>\n",
       "      <td>629</td>\n",
       "      <td>0.844612</td>\n",
       "      <td>0.742141</td>\n",
       "      <td>0.823889</td>\n",
       "    </tr>\n",
       "    <tr>\n",
       "      <th>Argentina|Bs.As. G.B.A. Zona Oeste|La Matanza</th>\n",
       "      <td>513</td>\n",
       "      <td>0.787132</td>\n",
       "      <td>0.551492</td>\n",
       "      <td>0.711396</td>\n",
       "    </tr>\n",
       "    <tr>\n",
       "      <th>Argentina|Bs.As. G.B.A. Zona Oeste|Morón</th>\n",
       "      <td>503</td>\n",
       "      <td>0.749344</td>\n",
       "      <td>0.482572</td>\n",
       "      <td>0.659958</td>\n",
       "    </tr>\n",
       "    <tr>\n",
       "      <th>Argentina|Bs.As. G.B.A. Zona Sur|Lomas de Zamora</th>\n",
       "      <td>418</td>\n",
       "      <td>0.773681</td>\n",
       "      <td>0.606222</td>\n",
       "      <td>0.716426</td>\n",
       "    </tr>\n",
       "    <tr>\n",
       "      <th>Argentina|Bs.As. G.B.A. Zona Sur|Almirante Brown</th>\n",
       "      <td>362</td>\n",
       "      <td>0.602470</td>\n",
       "      <td>0.316949</td>\n",
       "      <td>0.511531</td>\n",
       "    </tr>\n",
       "  </tbody>\n",
       "</table>\n",
       "</div>"
      ],
      "text/plain": [
       "                                                    count  price_covered_corr  \\\n",
       "place                                                                           \n",
       "Argentina|Bs.As. G.B.A. Zona Norte|Tigre             2268            0.769483   \n",
       "Argentina|Bs.As. G.B.A. Zona Norte|Pilar             1136            0.816688   \n",
       "Argentina|Bs.As. G.B.A. Zona Norte|Escobar            744            0.720005   \n",
       "Argentina|Buenos Aires Costa Atlántica|Mar del ...    736            0.728583   \n",
       "Argentina|Bs.As. G.B.A. Zona Norte|San Isidro         714            0.810690   \n",
       "Argentina|Bs.As. G.B.A. Zona Norte|Vicente López      629            0.844612   \n",
       "Argentina|Bs.As. G.B.A. Zona Oeste|La Matanza         513            0.787132   \n",
       "Argentina|Bs.As. G.B.A. Zona Oeste|Morón              503            0.749344   \n",
       "Argentina|Bs.As. G.B.A. Zona Sur|Lomas de Zamora      418            0.773681   \n",
       "Argentina|Bs.As. G.B.A. Zona Sur|Almirante Brown      362            0.602470   \n",
       "\n",
       "                                                    price_total_corr  \\\n",
       "place                                                                  \n",
       "Argentina|Bs.As. G.B.A. Zona Norte|Tigre                    0.541330   \n",
       "Argentina|Bs.As. G.B.A. Zona Norte|Pilar                    0.659126   \n",
       "Argentina|Bs.As. G.B.A. Zona Norte|Escobar                  0.544955   \n",
       "Argentina|Buenos Aires Costa Atlántica|Mar del ...          0.238876   \n",
       "Argentina|Bs.As. G.B.A. Zona Norte|San Isidro               0.652045   \n",
       "Argentina|Bs.As. G.B.A. Zona Norte|Vicente López            0.742141   \n",
       "Argentina|Bs.As. G.B.A. Zona Oeste|La Matanza               0.551492   \n",
       "Argentina|Bs.As. G.B.A. Zona Oeste|Morón                    0.482572   \n",
       "Argentina|Bs.As. G.B.A. Zona Sur|Lomas de Zamora            0.606222   \n",
       "Argentina|Bs.As. G.B.A. Zona Sur|Almirante Brown            0.316949   \n",
       "\n",
       "                                                    price_mean_corr  \n",
       "place                                                                \n",
       "Argentina|Bs.As. G.B.A. Zona Norte|Tigre                   0.700964  \n",
       "Argentina|Bs.As. G.B.A. Zona Norte|Pilar                   0.774796  \n",
       "Argentina|Bs.As. G.B.A. Zona Norte|Escobar                 0.681198  \n",
       "Argentina|Buenos Aires Costa Atlántica|Mar del ...         0.554036  \n",
       "Argentina|Bs.As. G.B.A. Zona Norte|San Isidro              0.782788  \n",
       "Argentina|Bs.As. G.B.A. Zona Norte|Vicente López           0.823889  \n",
       "Argentina|Bs.As. G.B.A. Zona Oeste|La Matanza              0.711396  \n",
       "Argentina|Bs.As. G.B.A. Zona Oeste|Morón                   0.659958  \n",
       "Argentina|Bs.As. G.B.A. Zona Sur|Lomas de Zamora           0.716426  \n",
       "Argentina|Bs.As. G.B.A. Zona Sur|Almirante Brown           0.511531  "
      ]
     },
     "execution_count": 128,
     "metadata": {},
     "output_type": "execute_result"
    }
   ],
   "source": [
    "df_house_place.sort_values(by='count', ascending=False).head(10)"
   ]
  },
  {
   "cell_type": "markdown",
   "id": "54e5ecf0",
   "metadata": {},
   "source": [
    "Para todos los valores observados la superficie cubierta tuvo un mejor  desempeño.\n",
    "En base a lo anterior, no se encuentran motivos fuertes para utilizar otra superficie que no sea surface_covered"
   ]
  },
  {
   "cell_type": "markdown",
   "id": "c5ecb84b",
   "metadata": {},
   "source": [
    "<a id=\"section_final_clean\"></a> \n",
    "## Limpieza final\n",
    "\n",
    "[volver a TOC](#section_toc)"
   ]
  },
  {
   "cell_type": "code",
   "execution_count": 129,
   "id": "402c618e",
   "metadata": {},
   "outputs": [],
   "source": [
    "df_tidy = df_price_surface_place_tidy.copy()"
   ]
  },
  {
   "cell_type": "markdown",
   "id": "bc059d3b",
   "metadata": {},
   "source": [
    "One-hot encoding para columna property_type"
   ]
  },
  {
   "cell_type": "code",
   "execution_count": 130,
   "id": "b54d6d8d",
   "metadata": {},
   "outputs": [],
   "source": [
    "# One hot encoding, binding y dropeo\n",
    "def onehot_bind(data):\n",
    "    dummies = pd.get_dummies(data['property_type'], prefix='proptype')\n",
    "    df_binded = pd.concat([data, dummies], axis=1)\n",
    "    return df_binded\n",
    "\n",
    "# Creo un nuevo dataframe con la codificación\n",
    "\n",
    "df_tidy = onehot_bind(df_tidy)\n",
    "\n",
    "# Dropeo la columna extra\n",
    "\n",
    "df_tidy.drop(['property_type'], axis=1, inplace=True)"
   ]
  },
  {
   "cell_type": "markdown",
   "id": "06196393",
   "metadata": {},
   "source": [
    "Eliminación de columnas sin uso"
   ]
  },
  {
   "cell_type": "code",
   "execution_count": 131,
   "id": "542955ba",
   "metadata": {},
   "outputs": [
    {
     "data": {
      "text/plain": [
       "place_name                  object\n",
       "place_with_parent_names     object\n",
       "state_name                  object\n",
       "lat-lon                     object\n",
       "lat                        float64\n",
       "lon                        float64\n",
       "price_aprox_usd            float64\n",
       "surface_total_in_m2        float64\n",
       "surface_covered_in_m2      float64\n",
       "price_usd_per_m2           float64\n",
       "price_per_m2               float64\n",
       "floor                      float64\n",
       "rooms                      float64\n",
       "expenses                   float64\n",
       "description                 object\n",
       "title                       object\n",
       "place                       object\n",
       "proptype_PH                  uint8\n",
       "proptype_apartment           uint8\n",
       "proptype_house               uint8\n",
       "proptype_store               uint8\n",
       "dtype: object"
      ]
     },
     "execution_count": 131,
     "metadata": {},
     "output_type": "execute_result"
    }
   ],
   "source": [
    "df_tidy.dtypes"
   ]
  },
  {
   "cell_type": "code",
   "execution_count": 132,
   "id": "646e48bd",
   "metadata": {},
   "outputs": [],
   "source": [
    "columns_to_drop= ['place_name', 'place_with_parent_names', 'state_name',\n",
    "                 'lat-lon', 'lat', 'lon', 'surface_total_in_m2', 'price_usd_per_m2',\n",
    "                 'price_per_m2', 'floor', 'rooms', 'expenses', 'description',\n",
    "                 'title']\n",
    "\n",
    "df_tidy.drop(columns_to_drop, axis=1, inplace=True)\n",
    "df_tidy.reset_index(level=None, drop=True, inplace=True)"
   ]
  },
  {
   "cell_type": "markdown",
   "id": "297fb574",
   "metadata": {},
   "source": [
    "<a id=\"section_final_datasets\"></a> \n",
    "## Datasets finales\n",
    "\n",
    "[volver a TOC](#section_toc)"
   ]
  },
  {
   "cell_type": "markdown",
   "id": "00e2de2f",
   "metadata": {},
   "source": [
    "Dataset final"
   ]
  },
  {
   "cell_type": "code",
   "execution_count": 133,
   "id": "1b311f6d",
   "metadata": {},
   "outputs": [
    {
     "data": {
      "text/html": [
       "<div>\n",
       "<style scoped>\n",
       "    .dataframe tbody tr th:only-of-type {\n",
       "        vertical-align: middle;\n",
       "    }\n",
       "\n",
       "    .dataframe tbody tr th {\n",
       "        vertical-align: top;\n",
       "    }\n",
       "\n",
       "    .dataframe thead th {\n",
       "        text-align: right;\n",
       "    }\n",
       "</style>\n",
       "<table border=\"1\" class=\"dataframe\">\n",
       "  <thead>\n",
       "    <tr style=\"text-align: right;\">\n",
       "      <th></th>\n",
       "      <th>price_aprox_usd</th>\n",
       "      <th>surface_covered_in_m2</th>\n",
       "      <th>place</th>\n",
       "      <th>proptype_PH</th>\n",
       "      <th>proptype_apartment</th>\n",
       "      <th>proptype_house</th>\n",
       "      <th>proptype_store</th>\n",
       "    </tr>\n",
       "  </thead>\n",
       "  <tbody>\n",
       "    <tr>\n",
       "      <th>0</th>\n",
       "      <td>62000.0</td>\n",
       "      <td>40.0</td>\n",
       "      <td>Argentina|Capital Federal|Mataderos</td>\n",
       "      <td>1</td>\n",
       "      <td>0</td>\n",
       "      <td>0</td>\n",
       "      <td>0</td>\n",
       "    </tr>\n",
       "    <tr>\n",
       "      <th>1</th>\n",
       "      <td>72000.0</td>\n",
       "      <td>55.0</td>\n",
       "      <td>Argentina|Capital Federal|Mataderos</td>\n",
       "      <td>0</td>\n",
       "      <td>1</td>\n",
       "      <td>0</td>\n",
       "      <td>0</td>\n",
       "    </tr>\n",
       "    <tr>\n",
       "      <th>2</th>\n",
       "      <td>64000.0</td>\n",
       "      <td>35.0</td>\n",
       "      <td>Argentina|Buenos Aires Costa Atlántica|Mar del...</td>\n",
       "      <td>0</td>\n",
       "      <td>1</td>\n",
       "      <td>0</td>\n",
       "      <td>0</td>\n",
       "    </tr>\n",
       "    <tr>\n",
       "      <th>3</th>\n",
       "      <td>130000.0</td>\n",
       "      <td>78.0</td>\n",
       "      <td>Argentina|Bs.As. G.B.A. Zona Norte|Vicente López</td>\n",
       "      <td>1</td>\n",
       "      <td>0</td>\n",
       "      <td>0</td>\n",
       "      <td>0</td>\n",
       "    </tr>\n",
       "    <tr>\n",
       "      <th>4</th>\n",
       "      <td>138000.0</td>\n",
       "      <td>40.0</td>\n",
       "      <td>Argentina|Capital Federal|Belgrano</td>\n",
       "      <td>0</td>\n",
       "      <td>1</td>\n",
       "      <td>0</td>\n",
       "      <td>0</td>\n",
       "    </tr>\n",
       "    <tr>\n",
       "      <th>...</th>\n",
       "      <td>...</td>\n",
       "      <td>...</td>\n",
       "      <td>...</td>\n",
       "      <td>...</td>\n",
       "      <td>...</td>\n",
       "      <td>...</td>\n",
       "      <td>...</td>\n",
       "    </tr>\n",
       "    <tr>\n",
       "      <th>82023</th>\n",
       "      <td>165000.0</td>\n",
       "      <td>39.0</td>\n",
       "      <td>Argentina|Capital Federal|Recoleta</td>\n",
       "      <td>0</td>\n",
       "      <td>1</td>\n",
       "      <td>0</td>\n",
       "      <td>0</td>\n",
       "    </tr>\n",
       "    <tr>\n",
       "      <th>82024</th>\n",
       "      <td>870000.0</td>\n",
       "      <td>93.0</td>\n",
       "      <td>Argentina|Capital Federal|Belgrano</td>\n",
       "      <td>0</td>\n",
       "      <td>1</td>\n",
       "      <td>0</td>\n",
       "      <td>0</td>\n",
       "    </tr>\n",
       "    <tr>\n",
       "      <th>82025</th>\n",
       "      <td>498000.0</td>\n",
       "      <td>360.0</td>\n",
       "      <td>Argentina|Bs.As. G.B.A. Zona Norte|San Isidro</td>\n",
       "      <td>0</td>\n",
       "      <td>0</td>\n",
       "      <td>1</td>\n",
       "      <td>0</td>\n",
       "    </tr>\n",
       "    <tr>\n",
       "      <th>82026</th>\n",
       "      <td>131500.0</td>\n",
       "      <td>39.0</td>\n",
       "      <td>Argentina|Capital Federal|Villa Urquiza</td>\n",
       "      <td>0</td>\n",
       "      <td>1</td>\n",
       "      <td>0</td>\n",
       "      <td>0</td>\n",
       "    </tr>\n",
       "    <tr>\n",
       "      <th>82027</th>\n",
       "      <td>95900.0</td>\n",
       "      <td>48.0</td>\n",
       "      <td>Argentina|Buenos Aires Costa Atlántica|Mar del...</td>\n",
       "      <td>0</td>\n",
       "      <td>1</td>\n",
       "      <td>0</td>\n",
       "      <td>0</td>\n",
       "    </tr>\n",
       "  </tbody>\n",
       "</table>\n",
       "<p>82028 rows × 7 columns</p>\n",
       "</div>"
      ],
      "text/plain": [
       "       price_aprox_usd  surface_covered_in_m2  \\\n",
       "0              62000.0                   40.0   \n",
       "1              72000.0                   55.0   \n",
       "2              64000.0                   35.0   \n",
       "3             130000.0                   78.0   \n",
       "4             138000.0                   40.0   \n",
       "...                ...                    ...   \n",
       "82023         165000.0                   39.0   \n",
       "82024         870000.0                   93.0   \n",
       "82025         498000.0                  360.0   \n",
       "82026         131500.0                   39.0   \n",
       "82027          95900.0                   48.0   \n",
       "\n",
       "                                                   place  proptype_PH  \\\n",
       "0                    Argentina|Capital Federal|Mataderos            1   \n",
       "1                    Argentina|Capital Federal|Mataderos            0   \n",
       "2      Argentina|Buenos Aires Costa Atlántica|Mar del...            0   \n",
       "3       Argentina|Bs.As. G.B.A. Zona Norte|Vicente López            1   \n",
       "4                     Argentina|Capital Federal|Belgrano            0   \n",
       "...                                                  ...          ...   \n",
       "82023                 Argentina|Capital Federal|Recoleta            0   \n",
       "82024                 Argentina|Capital Federal|Belgrano            0   \n",
       "82025      Argentina|Bs.As. G.B.A. Zona Norte|San Isidro            0   \n",
       "82026            Argentina|Capital Federal|Villa Urquiza            0   \n",
       "82027  Argentina|Buenos Aires Costa Atlántica|Mar del...            0   \n",
       "\n",
       "       proptype_apartment  proptype_house  proptype_store  \n",
       "0                       0               0               0  \n",
       "1                       1               0               0  \n",
       "2                       1               0               0  \n",
       "3                       0               0               0  \n",
       "4                       1               0               0  \n",
       "...                   ...             ...             ...  \n",
       "82023                   1               0               0  \n",
       "82024                   1               0               0  \n",
       "82025                   0               1               0  \n",
       "82026                   1               0               0  \n",
       "82027                   1               0               0  \n",
       "\n",
       "[82028 rows x 7 columns]"
      ]
     },
     "execution_count": 133,
     "metadata": {},
     "output_type": "execute_result"
    }
   ],
   "source": [
    "df_tidy.to_csv('Datasets finales\\df_tidy.csv', index=False, encoding='utf-8')\n",
    "df_tidy"
   ]
  },
  {
   "cell_type": "markdown",
   "id": "70066b84",
   "metadata": {},
   "source": [
    "Dataseries que relaciona todas las localidades con su precio por metro cuadrado promedio.\n",
    "\n",
    "NOTA: Contiene todas las propiedades"
   ]
  },
  {
   "cell_type": "code",
   "execution_count": 134,
   "id": "5ce16aed",
   "metadata": {},
   "outputs": [
    {
     "data": {
      "text/plain": [
       "place\n",
       "Argentina|Bs.As. G.B.A. Zona Norte|Escobar                1403.893520\n",
       "Argentina|Bs.As. G.B.A. Zona Norte|General San Martín     1415.662651\n",
       "Argentina|Bs.As. G.B.A. Zona Norte|José C Paz              924.285714\n",
       "Argentina|Bs.As. G.B.A. Zona Norte|Malvinas Argentinas    1360.000000\n",
       "Argentina|Bs.As. G.B.A. Zona Norte|Pilar                  1551.724138\n",
       "                                                             ...     \n",
       "Argentina|Tierra Del Fuego|Río Grande                     1343.671354\n",
       "Argentina|Tierra Del Fuego|Ushuaia                        2000.000000\n",
       "Argentina|Tucumán|San Miguel de Tucumán                   1453.153134\n",
       "Argentina|Tucumán|Tafí del Valle                           486.058467\n",
       "Argentina|Tucumán|Yerba Buena                             1215.146292\n",
       "Name: price_per_m2, Length: 421, dtype: float64"
      ]
     },
     "execution_count": 134,
     "metadata": {},
     "output_type": "execute_result"
    }
   ],
   "source": [
    "ds_place_price_per_m2.to_csv('Datasets finales\\ds_place_price_per_m2.csv', index=False, encoding='utf-8')\n",
    "ds_place_price_per_m2"
   ]
  },
  {
   "cell_type": "markdown",
   "id": "9986e70d",
   "metadata": {},
   "source": [
    "Dataset que relaciona las localidades con su precio por metro cuadrado para las localidades mejor correlacionadas \n",
    "\n",
    "NOTA: se consideraron correlaciones entre precio y superficie cubierta mayor a 0.75)"
   ]
  },
  {
   "cell_type": "code",
   "execution_count": 135,
   "id": "7797e320",
   "metadata": {},
   "outputs": [
    {
     "data": {
      "text/plain": [
       "Argentina|Bs.As. G.B.A. Zona Norte|Malvinas Argentinas    1360.000000\n",
       "Argentina|Bs.As. G.B.A. Zona Norte|Pilar                  1551.724138\n",
       "Argentina|Bs.As. G.B.A. Zona Norte|San Fernando           2100.000000\n",
       "Argentina|Bs.As. G.B.A. Zona Norte|San Isidro             2200.000000\n",
       "Argentina|Bs.As. G.B.A. Zona Norte|San Miguel             1496.268657\n",
       "                                                             ...     \n",
       "Argentina|Santa Fe|Roldán                                 1089.007917\n",
       "Argentina|Tierra Del Fuego|Río Grande                     1343.671354\n",
       "Argentina|Tierra Del Fuego|Ushuaia                        2000.000000\n",
       "Argentina|Tucumán|Tafí del Valle                           486.058467\n",
       "Argentina|Tucumán|Yerba Buena                             1215.146292\n",
       "Name: price_per_m2, Length: 176, dtype: float64"
      ]
     },
     "execution_count": 135,
     "metadata": {},
     "output_type": "execute_result"
    }
   ],
   "source": [
    "ds_place_price_per_m2_well_corr = ds_place_price_per_m2[places_well_corr].copy()\n",
    "ds_place_price_per_m2_well_corr.to_csv('Datasets finales\\ds_place_price_per_m2_well_corr.csv', index=False, encoding='utf-8')\n",
    "ds_place_price_per_m2_well_corr"
   ]
  },
  {
   "cell_type": "markdown",
   "id": "ba0984fd",
   "metadata": {},
   "source": [
    "<a id=\"section_graphs\"></a> \n",
    "## Gráficos con geopandas\n",
    "\n",
    "[volver a TOC](#section_toc)"
   ]
  },
  {
   "cell_type": "markdown",
   "id": "b55670e2",
   "metadata": {},
   "source": [
    "Se realizaron gráficos mostrando precios y precios por metro cuadrado para las distintas regiones del pais.\n",
    "Esto se entrega en una notebook aparte por cuestiones de environments.\n",
    "\n",
    "Notebook anexa geopandas: presentacion_geopandas"
   ]
  }
 ],
 "metadata": {
  "kernelspec": {
   "display_name": "Python 3 (ipykernel)",
   "language": "python",
   "name": "python3"
  },
  "language_info": {
   "codemirror_mode": {
    "name": "ipython",
    "version": 3
   },
   "file_extension": ".py",
   "mimetype": "text/x-python",
   "name": "python",
   "nbconvert_exporter": "python",
   "pygments_lexer": "ipython3",
   "version": "3.9.7"
  }
 },
 "nbformat": 4,
 "nbformat_minor": 5
}
